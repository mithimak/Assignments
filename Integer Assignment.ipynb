{
 "cells": [
  {
   "cell_type": "markdown",
   "id": "81cb2874",
   "metadata": {},
   "source": [
    "# INT ASSIGNMENT"
   ]
  },
  {
   "cell_type": "markdown",
   "id": "b0682b41",
   "metadata": {},
   "source": [
    "1. Declare an int value and store it in a variable."
   ]
  },
  {
   "cell_type": "code",
   "execution_count": 1,
   "id": "3324adc7",
   "metadata": {},
   "outputs": [
    {
     "name": "stdout",
     "output_type": "stream",
     "text": [
      "<class 'int'>\n",
      "2232387659536\n"
     ]
    }
   ],
   "source": [
    "var = 236\n",
    "print(type(var))\n",
    "print(id(var))"
   ]
  },
  {
   "cell_type": "markdown",
   "id": "6e5c5b04",
   "metadata": {},
   "source": [
    "2.  Take one int value between 0 - 256.\n",
    "    Take one int value between 0 - 256.\n",
    "    Assign it to two different variables.\n",
    "    Check the id of both the variables. It should come the same. Check why?"
   ]
  },
  {
   "cell_type": "code",
   "execution_count": 2,
   "id": "9b44f82e",
   "metadata": {},
   "outputs": [
    {
     "name": "stdout",
     "output_type": "stream",
     "text": [
      "2232387464080\n",
      "2232387464080\n"
     ]
    }
   ],
   "source": [
    "var1 = 20\n",
    "var2 = 20\n",
    "print(id(var1))\n",
    "print(id(var2))"
   ]
  },
  {
   "cell_type": "markdown",
   "id": "68f6d074",
   "metadata": {},
   "source": [
    "3. Take one int value either less than -5 or greater than 256.\n",
    "        Assign it to two different variables.\n",
    "        Check the id of both the variables. It should come different.Check why?"
   ]
  },
  {
   "cell_type": "code",
   "execution_count": null,
   "id": "bad98603",
   "metadata": {},
   "outputs": [],
   "source": [
    "var3 = 567\n",
    "var4 = 567\n",
    "print(id(var3))\n",
    "print(id(var4))"
   ]
  },
  {
   "cell_type": "markdown",
   "id": "d9d4a75f",
   "metadata": {},
   "source": [
    "4. Arithmetic Operations on integers\n",
    "    Take two different integer values.\n",
    "    Store them in two different variables.\n",
    "    Do below operations on them:-\n",
    "\n",
    "        Find sum of both numbers\n",
    "        Find difference between them\n",
    "        Find the product of both numbers.\n",
    "        Find value after dividing first num with second number\n",
    "        Find the remainder after dividing first number with second number\n",
    "        Find the quotient after dividing first number with second number\n",
    "        Find the result of the first num to the power of the second number."
   ]
  },
  {
   "cell_type": "code",
   "execution_count": 3,
   "id": "7283451e",
   "metadata": {},
   "outputs": [
    {
     "name": "stdout",
     "output_type": "stream",
     "text": [
      "5\n",
      "1\n",
      "6\n",
      "1.5\n",
      "1\n",
      "1\n",
      "9\n"
     ]
    }
   ],
   "source": [
    "# declaring variable values as below:\n",
    "int1 = 3\n",
    "int2 = 2\n",
    "\n",
    "#addition \n",
    "print(int1+int2)\n",
    "#Difference\n",
    "print(int1-int2)\n",
    "#Multiplication\n",
    "print(int1*int2)\n",
    "#DiviSion\n",
    "print(int1/int2)\n",
    "#Mod\n",
    "print(int1%int2)\n",
    "#Floor Division\n",
    "print(int1//int2)\n",
    "#power\n",
    "print(int1 ** int2)"
   ]
  },
  {
   "cell_type": "markdown",
   "id": "aaa16d90",
   "metadata": {},
   "source": [
    "5. Comparison Operators on integers\n",
    "        Take two different integer values.\n",
    "        Store them in two different variables.\n",
    "        Do below operations on them:-\n",
    "        Compare se two numbers with below operator:-\n",
    "        Greater than, '>'\n",
    "        Smaller than, '<'\n",
    "        Greater than or equal to, '>='\n",
    "        Less than or equal to, '<='\n",
    "        Observe their output(return type should be boolean)"
   ]
  },
  {
   "cell_type": "code",
   "execution_count": 8,
   "id": "39d2007d",
   "metadata": {},
   "outputs": [
    {
     "name": "stdout",
     "output_type": "stream",
     "text": [
      "False\n",
      "True\n",
      "False\n",
      "True\n"
     ]
    }
   ],
   "source": [
    "#declaring integer values\n",
    "\n",
    "log1 = 30\n",
    "log2 = 40\n",
    "\n",
    "#greater than\n",
    "print(log1>log2)\n",
    "#smaller than\n",
    "print(log1<log2)\n",
    "#Greater than or equal to\n",
    "print(log1>=log2)\n",
    "# Less than equal to\n",
    "print(log1<=log2)"
   ]
  },
  {
   "cell_type": "markdown",
   "id": "4211aa17",
   "metadata": {},
   "source": [
    " 6.   Equality Operator\n",
    "        Take two different integer values.\n",
    "        Store them in two different variables.\n",
    "        Equate them using equality operators (==, !=)\n",
    "        Observe the output(return type should be boolean)"
   ]
  },
  {
   "cell_type": "code",
   "execution_count": 9,
   "id": "cdcac841",
   "metadata": {},
   "outputs": [
    {
     "name": "stdout",
     "output_type": "stream",
     "text": [
      "False\n",
      "True\n"
     ]
    }
   ],
   "source": [
    "# declaring integer values\n",
    "num = 200\n",
    "num1 = 100\n",
    "\n",
    "# is equal to\n",
    "print(num == num1)\n",
    "print(num != num1)"
   ]
  },
  {
   "cell_type": "markdown",
   "id": "75951422",
   "metadata": {},
   "source": [
    "7. Logical operators\n",
    "        Observe the output of below code\n",
    "\n",
    "        Cross check the output manually"
   ]
  },
  {
   "cell_type": "code",
   "execution_count": 10,
   "id": "7233ec12",
   "metadata": {},
   "outputs": [
    {
     "name": "stdout",
     "output_type": "stream",
     "text": [
      "20\n",
      "0\n",
      "0\n",
      "0\n",
      "10\n",
      "20\n",
      "20\n",
      "0\n",
      "False\n",
      "True\n"
     ]
    }
   ],
   "source": [
    "print(10 and 20)\n",
    "#----------------------------------------->Output is 20\n",
    "print(0 and 20)\n",
    "#----------------------------------------->Output is 0\n",
    "print(20 and 0)\n",
    "#----------------------------------------->Output is 0\n",
    "print(0 and 0)\n",
    "#----------------------------------------->Output is 0\n",
    "print(10 or 20)\n",
    "#----------------------------------------->Output is 10\n",
    "print(0 or 20)\n",
    "#----------------------------------------->Output is 20\n",
    "print(20 or 0)\n",
    "#----------------------------------------->Output is 20\n",
    "print(0 or 0)\n",
    "#----------------------------------------->Output is 0\n",
    "print(not 10)\n",
    "#----------------------------------------->Output is False\n",
    "print(not 0)\n",
    "#----------------------------------------->Output is True"
   ]
  },
  {
   "cell_type": "markdown",
   "id": "35189aa2",
   "metadata": {},
   "source": [
    "8. Membership operation\n",
    "        in, not in are two membership operators and it returns boolean value"
   ]
  },
  {
   "cell_type": "code",
   "execution_count": 11,
   "id": "e6926d33",
   "metadata": {},
   "outputs": [
    {
     "name": "stdout",
     "output_type": "stream",
     "text": [
      "True\n",
      "True\n",
      "True\n",
      "True\n",
      "True\n",
      "True\n"
     ]
    }
   ],
   "source": [
    "print('2' in 'Python2.7.8')\n",
    "print(10 in [10,10.20,10+20j,'Python'])\n",
    "print(10 in (10,10.20,10+20j,'Python'))\n",
    "print(2 in {1,2,3})\n",
    "print(3 in {1:100, 2:200, 3:300})\n",
    "print(10 in range(20))"
   ]
  },
  {
   "cell_type": "markdown",
   "id": "7fc6a3a4",
   "metadata": {},
   "source": [
    "9. Bitwise Operators\n",
    "        Do below operations on the values provided below:-"
   ]
  },
  {
   "cell_type": "markdown",
   "id": "859027f0",
   "metadata": {},
   "source": [
    "Bitwise and (&) -----------------------------------------> 10, 20\n",
    "\n",
    "Bitwise or (|) -----------------------------------------> 10, 20\n",
    "\n",
    "Bitwise(^) -----------------------------------------> 10, 20\n",
    "\n",
    "Bitwise negation(~) ------------------------------------> 10\n",
    "\n",
    "Bitwise left shift ------------------------------------> 10,2\n",
    "\n",
    "Bitwise right shift ------------------------------------> 10,2\n"
   ]
  },
  {
   "cell_type": "code",
   "execution_count": 1,
   "id": "cebba743",
   "metadata": {},
   "outputs": [
    {
     "name": "stdout",
     "output_type": "stream",
     "text": [
      "0\n",
      "30\n",
      "30\n",
      "-11\n",
      "40\n",
      "2\n"
     ]
    }
   ],
   "source": [
    "x=10\n",
    "y=20\n",
    "\n",
    "\n",
    "print(x & y)\n",
    "print(x | y)\n",
    "print(x ^ y)\n",
    "print(~x)\n",
    "print(10 << 2)\n",
    "print(10 >> 2)"
   ]
  },
  {
   "cell_type": "markdown",
   "id": "7eed4efe",
   "metadata": {},
   "source": [
    "10. What is the output of expression inside print statement. Cross check\n",
    "    before running the program."
   ]
  },
  {
   "cell_type": "code",
   "execution_count": 2,
   "id": "79af9217",
   "metadata": {},
   "outputs": [
    {
     "name": "stdout",
     "output_type": "stream",
     "text": [
      "True\n",
      "False\n",
      "False\n",
      "True\n"
     ]
    }
   ],
   "source": [
    "a = 10\n",
    "b = 10\n",
    "print(a is b)\n",
    "print(a is not b)\n",
    "a=1000\n",
    "b=1000\n",
    "print(a is b)\n",
    "print(a is not b)"
   ]
  },
  {
   "cell_type": "code",
   "execution_count": 22,
   "id": "bfe12fff",
   "metadata": {},
   "outputs": [
    {
     "name": "stdout",
     "output_type": "stream",
     "text": [
      "20\n"
     ]
    }
   ],
   "source": [
    "\"\"\"11. What is the output of expression inside print statement. Cross check\n",
    "before running the program.\"\"\"\n",
    "\n",
    "print(10+(10*32)//2**5&20+(~(-10))<<2)"
   ]
  },
  {
   "cell_type": "code",
   "execution_count": 23,
   "id": "39d94221",
   "metadata": {},
   "outputs": [
    {
     "name": "stdout",
     "output_type": "stream",
     "text": [
      "True\n",
      "True\n",
      "True\n",
      "True\n",
      "True\n",
      "True\n"
     ]
    }
   ],
   "source": [
    "\"\"\"12. Membership operation\n",
    "in, not in are two membership operators and it returns boolean value\"\"\"\n",
    "\n",
    "print('2' in 'Python2.7.8')\n",
    "print(10 in [10,10.20,10+20j,'Python'])\n",
    "print(10 in (10,10.20,10+20j,'Python'))\n",
    "print(2 in {1,2,3})\n",
    "print(3 in {1:100, 2:200, 3:300})\n",
    "print(10 in range(20)) "
   ]
  },
  {
   "cell_type": "markdown",
   "id": "75ee290c",
   "metadata": {},
   "source": [
    "13. An integer can be represented in binary, octal or hexadecimal form.\n",
    "    Declare one binary, one octal and one hexadecimal value and store them\n",
    "    in three different variables.\n",
    "    Convert 9876 to its binary, octal and hexadecimal equivalent and print\n",
    "    their corresponding value."
   ]
  },
  {
   "cell_type": "code",
   "execution_count": 3,
   "id": "eb66b65e",
   "metadata": {},
   "outputs": [
    {
     "name": "stdout",
     "output_type": "stream",
     "text": [
      "1\n",
      "13\n",
      "11\n",
      "0b10011010010100\n",
      "0o23224\n",
      "0x2694\n"
     ]
    }
   ],
   "source": [
    "# declaring values as per above instructions Binary, Octal and Hexadecimal values\n",
    "binary = 0b0001\n",
    "print(binary)\n",
    "\n",
    "octal = 0o15\n",
    "print(octal)\n",
    "\n",
    "hexa = 0xb\n",
    "print(hexa)\n",
    "\n",
    "#printing 9876 in Binary Octa and Hexa\n",
    "interger_1 = 9876\n",
    "\n",
    "print(bin(interger_1))\n",
    "print(oct(interger_1))\n",
    "print(hex(interger_1))"
   ]
  },
  {
   "cell_type": "markdown",
   "id": "109922da",
   "metadata": {},
   "source": [
    "14. What will be the output of following:-"
   ]
  },
  {
   "cell_type": "code",
   "execution_count": 1,
   "id": "d0960302",
   "metadata": {},
   "outputs": [],
   "source": [
    "# Taking Variables with values as given\n",
    "a = 0b1010000\n",
    "b = 0o7436\n",
    "c = 0xfade"
   ]
  },
  {
   "cell_type": "code",
   "execution_count": 2,
   "id": "a9556214",
   "metadata": {},
   "outputs": [
    {
     "name": "stdout",
     "output_type": "stream",
     "text": [
      "64222\n",
      "0b1010000\n",
      "0o7436\n",
      "0xfade\n",
      "0b1010000\n",
      "0b1111101011011110\n",
      "0o175336\n",
      "0o7436\n",
      "0x50\n",
      "0xfade\n"
     ]
    }
   ],
   "source": [
    "print(c)\n",
    "print(bin(80))\n",
    "print(oct(3870))\n",
    "print(hex(64222))\n",
    "print(bin(0b1010000))\n",
    "print(bin(0xfade))\n",
    "print(oct(0xfade))\n",
    "print(oct(0o7436))\n",
    "print(hex(0b1010000))\n",
    "print(hex(0xfade))"
   ]
  },
  {
   "cell_type": "code",
   "execution_count": null,
   "id": "bb574655",
   "metadata": {},
   "outputs": [],
   "source": []
  }
 ],
 "metadata": {
  "kernelspec": {
   "display_name": "Python 3 (ipykernel)",
   "language": "python",
   "name": "python3"
  },
  "language_info": {
   "codemirror_mode": {
    "name": "ipython",
    "version": 3
   },
   "file_extension": ".py",
   "mimetype": "text/x-python",
   "name": "python",
   "nbconvert_exporter": "python",
   "pygments_lexer": "ipython3",
   "version": "3.9.13"
  }
 },
 "nbformat": 4,
 "nbformat_minor": 5
}
