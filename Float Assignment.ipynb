{
 "cells": [
  {
   "cell_type": "markdown",
   "id": "153c90a1",
   "metadata": {},
   "source": [
    "# FLOAT ASSIGNMENT"
   ]
  },
  {
   "cell_type": "markdown",
   "id": "1115caf5",
   "metadata": {},
   "source": [
    "1.  Declare a float value and store it in a variable.\n",
    "    Check the type and print the id of the same."
   ]
  },
  {
   "cell_type": "code",
   "execution_count": 2,
   "id": "1ba18896",
   "metadata": {},
   "outputs": [
    {
     "name": "stdout",
     "output_type": "stream",
     "text": [
      "<class 'float'>\n",
      "2957954324624\n"
     ]
    }
   ],
   "source": [
    "flo = 2.3\n",
    "print(type(flo))\n",
    "print(id(flo))"
   ]
  },
  {
   "cell_type": "markdown",
   "id": "e6f784cd",
   "metadata": {},
   "source": [
    "  2.  Arithmetic Operations on float\n",
    "        Take two different float values.\n",
    "        Store them in two different variables.\n",
    "        Do below operations on them:-\n",
    "            Find sum of both numbers\n",
    "            Find difference between them\n",
    "            Find the product of both numbers.\n",
    "            Find value after dividing first num with second number\n",
    "            Find the remainder after dividing first number with second number\n",
    "            Find the quotient after dividing first number with second number\n",
    "            Find the result of the first num to the power of the second number."
   ]
  },
  {
   "cell_type": "code",
   "execution_count": 4,
   "id": "bf8ed3a2",
   "metadata": {},
   "outputs": [
    {
     "name": "stdout",
     "output_type": "stream",
     "text": [
      "5.32\n",
      "1.08\n",
      "6.784000000000001\n",
      "1.509433962264151\n",
      "1.08\n",
      "1.0\n",
      "11.773835237939391\n"
     ]
    }
   ],
   "source": [
    "# declaring variable values as below:\n",
    "flo1 = 3.2\n",
    "flo2 = 2.12\n",
    "\n",
    "#addition \n",
    "print(flo1+flo2)\n",
    "\n",
    "#Difference\n",
    "print(flo1-flo2)\n",
    "\n",
    "#Multiplication\n",
    "print(flo1*flo2)\n",
    "\n",
    "#DiviSion\n",
    "print(flo1/flo2)\n",
    "\n",
    "#Mod\n",
    "print(flo1%flo2)\n",
    "\n",
    "#Floor Division\n",
    "print(flo1//flo2)\n",
    "\n",
    "#power\n",
    "print(flo1**flo2)"
   ]
  },
  {
   "cell_type": "markdown",
   "id": "d3f9ac35",
   "metadata": {},
   "source": [
    "3.    Comparison Operators on float\n",
    "    Take two different float values.\n",
    "    Store them in two different variables.\n",
    "    Do below operations on them:-\n",
    "    \n",
    "    Compare these two numbers with below operator:-\n",
    "        \n",
    "        Greater than, '>'\n",
    "        \n",
    "        Smaller than, '<'\n",
    "        \n",
    "        Greater than or equal to, '>='\n",
    "        \n",
    "        Less than or equal to, '<='\n",
    "        \n",
    " Observe their output(return type should be boolean)"
   ]
  },
  {
   "cell_type": "code",
   "execution_count": 8,
   "id": "831ef6a4",
   "metadata": {},
   "outputs": [
    {
     "name": "stdout",
     "output_type": "stream",
     "text": [
      "True\n",
      "False\n",
      "True\n",
      "False\n"
     ]
    }
   ],
   "source": [
    "#declaring float values\n",
    "\n",
    "flo3 = 33.57\n",
    "flo4 = 12.90\n",
    "\n",
    "#greater than\n",
    "print(flo3>flo4)\n",
    "#smaller than\n",
    "print(flo3<flo4)\n",
    "#Greater than or equal to\n",
    "print(flo3>=flo4)\n",
    "# Less than equal to\n",
    "print(flo3<=flo4)\n",
    "\n"
   ]
  },
  {
   "cell_type": "markdown",
   "id": "bda836c5",
   "metadata": {},
   "source": [
    "  4.  Equality Operator\n",
    "        Take two different float values.\n",
    "        Store them in two different variables.\n",
    "        \n",
    "     Equate them using equality operators (==, !=)\n",
    "     \n",
    "    Observe the output(return type should be boolean)"
   ]
  },
  {
   "cell_type": "code",
   "execution_count": 10,
   "id": "87408453",
   "metadata": {},
   "outputs": [
    {
     "name": "stdout",
     "output_type": "stream",
     "text": [
      "False\n",
      "True\n"
     ]
    }
   ],
   "source": [
    "# declaring float values\n",
    "a = 20.97\n",
    "b = 100.18\n",
    "\n",
    "# is equal to\n",
    "print(a == b)\n",
    "print(a != b)"
   ]
  },
  {
   "cell_type": "markdown",
   "id": "a4aab9a9",
   "metadata": {},
   "source": [
    " 5.   Logical operators\n",
    "      Observe the output of below code\n",
    "      Cross check the output manually\n",
    "  "
   ]
  },
  {
   "cell_type": "code",
   "execution_count": 11,
   "id": "3dffd46f",
   "metadata": {},
   "outputs": [
    {
     "name": "stdout",
     "output_type": "stream",
     "text": [
      "20.3\n",
      "0.0\n",
      "0.0\n",
      "0.0\n",
      "10.2\n",
      "20.3\n",
      "20.3\n",
      "0.0\n",
      "False\n",
      "True\n"
     ]
    }
   ],
   "source": [
    "print(10.20 and 20.30) \n",
    "print(0.0 and 20.30) \n",
    "print(20.30 and 0.0) \n",
    "print(0.0 and 0.0) \n",
    "print(10.20 or 20.30) \n",
    "print(0.0 or 20.30) \n",
    "print(20.30 or 0.0)\n",
    "print(0.0 or 0.0) \n",
    "print(not 10.20) \n",
    "print(not 0.0) "
   ]
  },
  {
   "cell_type": "markdown",
   "id": "0ea45efc",
   "metadata": {},
   "source": [
    " 6.   What is the output of expression inside print statement. Cross check\n",
    "      before running the program.\n",
    "      \n",
    "      a = 10.20\n",
    "      b - 10.20\n",
    "print(a is b) #True or False? True 10.20<256\n",
    "print(a is not b) #True or False? False\n",
    "\n",
    "\n",
    "Why the Id of float values are different when the same value is\n",
    "assigned to two different variables\n",
    "\n",
    "\n",
    "ex: a = 10.5 b=10.5. but id will be same if I assign the variable\n",
    "having float i.e. a=c then both a and c's Id are same"
   ]
  },
  {
   "cell_type": "code",
   "execution_count": 4,
   "id": "28637c24",
   "metadata": {},
   "outputs": [
    {
     "name": "stdout",
     "output_type": "stream",
     "text": [
      "False\n",
      "True\n",
      "1580848126288\n",
      "1580848125872\n",
      "False\n",
      "True\n",
      "1580848127120\n",
      "1580848126832\n",
      "1580848125936\n"
     ]
    }
   ],
   "source": [
    "a = 10.20\n",
    "b = 10.20\n",
    "\n",
    "print(a is b)\n",
    "print(a is not b)\n",
    "print(id(a))\n",
    "print(id(b))\n",
    "\n",
    "a=10.5 \n",
    "b=10.5\n",
    "print(a is b)\n",
    "print(a is not b)\n",
    "print(id(a))\n",
    "print(id(b))\n",
    "\n",
    "\n",
    "print(id(c))\n",
    "\n"
   ]
  },
  {
   "cell_type": "markdown",
   "id": "0249a1cb",
   "metadata": {},
   "source": [
    "  #7.      Bitwise operation is not applicable between instances of float.\n",
    "  \n",
    "            Why the Id of float values are different when the same value is\n",
    "            assigned to two different variables\n",
    "            \n",
    "            ex: a = 10.5 b=10.5. but id will be same if I assign the variable\n",
    "            having float i.e. a=c then both a and c's Id are same\n",
    "            \n",
    "            Object reusability concept is not applicable on float values.\n",
    "            \n",
    "ANS: when it comes to Float Values , since they have decimal point and the digits right of decimal point can grow infinitely same memory ID is not assigned even if the float value is same.\n"
   ]
  },
  {
   "cell_type": "markdown",
   "id": "29ec313c",
   "metadata": {},
   "source": [
    "8.        Membership operation\n",
    "            in, not in are two membership operators and it returns boolean value\n",
    "                print('2.7' in 'Python2.7.8') #True\n",
    "                print(10.20 in [10,10.20,10+20j,'Python']) #True\n",
    "                print(10.20 in (10,10.20,10+20j,'Python')) # True\n",
    "                print(20.30 in {1,20.30,30+40j}) # True\n",
    "                print(2.3 in {1:100, 2.3:200, 30+40j:300}) # True\n",
    "                print(10 in range(20)) # True"
   ]
  },
  {
   "cell_type": "code",
   "execution_count": 19,
   "id": "15704a71",
   "metadata": {},
   "outputs": [
    {
     "name": "stdout",
     "output_type": "stream",
     "text": [
      "True\n",
      "True\n",
      "True\n",
      "True\n",
      "True\n",
      "True\n"
     ]
    }
   ],
   "source": [
    "print('2.7' in 'Python2.7.8') \n",
    "print(10.20 in [10,10.20,10+20j,'Python'])\n",
    "print(10.20 in (10,10.20,10+20j,'Python'))\n",
    "print(20.30 in {1,20.30,30+40j}) # True\n",
    "print(2.3 in {1:100, 2.3:200, 30+40j:300})\n",
    "print(10 in range(20))"
   ]
  },
  {
   "cell_type": "code",
   "execution_count": null,
   "id": "fe27672f",
   "metadata": {},
   "outputs": [],
   "source": []
  }
 ],
 "metadata": {
  "kernelspec": {
   "display_name": "Python 3 (ipykernel)",
   "language": "python",
   "name": "python3"
  },
  "language_info": {
   "codemirror_mode": {
    "name": "ipython",
    "version": 3
   },
   "file_extension": ".py",
   "mimetype": "text/x-python",
   "name": "python",
   "nbconvert_exporter": "python",
   "pygments_lexer": "ipython3",
   "version": "3.9.13"
  }
 },
 "nbformat": 4,
 "nbformat_minor": 5
}
