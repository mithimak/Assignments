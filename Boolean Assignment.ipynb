{
 "cells": [
  {
   "cell_type": "markdown",
   "id": "a84f08d9",
   "metadata": {},
   "source": [
    "# Boolean Assignment"
   ]
  },
  {
   "cell_type": "markdown",
   "id": "1b2e6d7c",
   "metadata": {},
   "source": [
    "1. Declare a boolean value and store it in a variable."
   ]
  },
  {
   "cell_type": "code",
   "execution_count": 2,
   "id": "b17ddaac",
   "metadata": {},
   "outputs": [
    {
     "name": "stdout",
     "output_type": "stream",
     "text": [
      "<class 'bool'>\n"
     ]
    }
   ],
   "source": [
    "bool1 = True\n",
    "print(type(bool1))"
   ]
  },
  {
   "cell_type": "markdown",
   "id": "cf80d9d6",
   "metadata": {},
   "source": [
    "2.        Take one boolean value between 0 - 256.\n",
    "        Assign it to two different variables.\n",
    "        Check the id of both the variables. It should come the same. Check why?\n",
    "                                                                                                                                                                                                                                                            Memory id is same for the below boolean Variables as python pre-allocates memory for the integers between -5 and 256        and and uses these pre-allocated integers."
   ]
  },
  {
   "cell_type": "code",
   "execution_count": 4,
   "id": "7c9ea7e5",
   "metadata": {},
   "outputs": [
    {
     "name": "stdout",
     "output_type": "stream",
     "text": [
      "2481089965392\n",
      "2481089965392\n",
      "True\n"
     ]
    }
   ],
   "source": [
    "bool2 = 34\n",
    "bool3 = 34\n",
    "\n",
    "\n",
    "\n",
    "\n",
    "print(print(id(bool2)) == print(id(bool3)))\n"
   ]
  },
  {
   "cell_type": "markdown",
   "id": "e1089f39",
   "metadata": {},
   "source": [
    "3.  Arithmetic Operations on boolean data\n",
    "    Take two different boolean values.\n",
    "    Store them in two different variables.\n",
    "    Do below operations on them:-\n",
    "    \n",
    "        Find sum of both values\n",
    "        Find difference between them\n",
    "        Find the product of both.\n",
    "        Find value after dividing first value with second value\n",
    "        Find the remainder after dividing first value with second value\n",
    "        Find the quotient after dividing first value with second value\n",
    "        Find the result of first value to the power of second value."
   ]
  },
  {
   "cell_type": "code",
   "execution_count": 6,
   "id": "f5fd81a9",
   "metadata": {},
   "outputs": [
    {
     "name": "stdout",
     "output_type": "stream",
     "text": [
      "60\n",
      "40\n",
      "500\n",
      "5.0\n",
      "0\n",
      "5\n",
      "97656250000000000\n"
     ]
    }
   ],
   "source": [
    "#declaring Variables for the boolean values,10 & 20\n",
    "\n",
    "var1 = 50\n",
    "var2 = 10\n",
    "\n",
    "\n",
    "\n",
    "#Sum\n",
    "print(var1+var2)\n",
    "\n",
    "#difference\n",
    "print(var1-var2)\n",
    "\n",
    "#product\n",
    "print(var1*var2)\n",
    "\n",
    "#Division\n",
    "print(var1/var2)\n",
    "\n",
    "#Mod/Finding remainder\n",
    "print(var1%var2)\n",
    "\n",
    "#Floor Division/Quotient\n",
    "print(var1//var2)\n",
    "\n",
    "#Power\n",
    "print(var1**var2)"
   ]
  },
  {
   "cell_type": "markdown",
   "id": "34ad9962",
   "metadata": {},
   "source": [
    "4.    Comparison Operators on boolean values\n",
    "\n",
    "        Take two different boolean values.\n",
    "\n",
    "        Store them in two different variables.\n",
    "\n",
    "        Do below operations on them:-\n",
    "        Compare these two values with below operator:-\n",
    "\n",
    "            Greater than, '>'\n",
    "            less than, '<'\n",
    "            Greater than or equal to, '>='\n",
    "            Less than or equal to, '<='\n",
    "        Observe their output(return type should be boolean)"
   ]
  },
  {
   "cell_type": "code",
   "execution_count": 7,
   "id": "25cac253",
   "metadata": {},
   "outputs": [
    {
     "name": "stdout",
     "output_type": "stream",
     "text": [
      "True\n",
      "False\n",
      "True\n",
      "False\n"
     ]
    }
   ],
   "source": [
    "#declaring Variables for the boolean values,30 & 20\n",
    "\n",
    "var3 = 30\n",
    "var4 = 20\n",
    "\n",
    "#Greater Than\n",
    "print(var3>var4)\n",
    "\n",
    "#Lesser Than\n",
    "print(var3<var4)\n",
    "\n",
    "#Greater than or equal to\n",
    "print(var3>=var4)\n",
    "\n",
    "#Lesser Than or equal to\n",
    "print(var3<=var4)\n",
    "\n"
   ]
  },
  {
   "cell_type": "markdown",
   "id": "0d033a2c",
   "metadata": {},
   "source": [
    "5. Equality Operator\n",
    "\n",
    "    Take two different boolean values.\n",
    "\n",
    "    Store them in two different variables.\n",
    "\n",
    "    Equate them using equality operators (==, !=)\n",
    "\n",
    "    Observe the output(return type should be boolean)"
   ]
  },
  {
   "cell_type": "code",
   "execution_count": 8,
   "id": "de06c76b",
   "metadata": {},
   "outputs": [
    {
     "name": "stdout",
     "output_type": "stream",
     "text": [
      "False\n",
      "True\n"
     ]
    }
   ],
   "source": [
    "#declaring Variables for the boolean values,50 & 60\n",
    "\n",
    "var5 = 50\n",
    "var6 = 60\n",
    "\n",
    "# is equal to\n",
    "\n",
    "print(var5 == var6)\n",
    "\n",
    "# is not equal too\n",
    "\n",
    "print(var5 != var6)"
   ]
  },
  {
   "cell_type": "markdown",
   "id": "9b589b02",
   "metadata": {},
   "source": [
    "6. Logical operators\n",
    "    \n",
    "    -Observe the output of below code\n",
    "    \n",
    "    -Cross check the output manually"
   ]
  },
  {
   "cell_type": "code",
   "execution_count": 33,
   "id": "751905bb",
   "metadata": {},
   "outputs": [
    {
     "name": "stdout",
     "output_type": "stream",
     "text": [
      "True\n",
      "False\n",
      "False\n",
      "False\n",
      "True\n",
      "True\n",
      "True\n",
      "False\n",
      "False\n",
      "True\n"
     ]
    }
   ],
   "source": [
    "\n",
    "print(True and True)\n",
    "\n",
    "print(False and True)\n",
    "\n",
    "print(True and False)\n",
    "\n",
    "print(False and False)\n",
    "\n",
    "print(True or True)\n",
    "\n",
    "print(False or True)\n",
    "\n",
    "print(True or False)\n",
    "\n",
    "print(False or False)\n",
    "\n",
    "print(not True)\n",
    "\n",
    "print(not False)\n"
   ]
  },
  {
   "cell_type": "markdown",
   "id": "58fd0854",
   "metadata": {},
   "source": [
    "7. Bitwise Operators\n",
    "        Do below operations on the values provided below:-\n",
    "        Cross check the output manually"
   ]
  },
  {
   "cell_type": "markdown",
   "id": "06d6f2c0",
   "metadata": {},
   "source": [
    "    Bitwise and(&) --------------> True, True -------> Output is True\n",
    "    Bitwise or(|) --------------> True, False -------> Output is True\n",
    "    Bitwise(^) --------------> True, False -------> Output is True\n",
    "    Bitwise negation(~) ---------> True -------> Output is -2\n",
    "    Bitwise left shift ---------> True,2 -------> Output is 4\n",
    "    Bitwise right shift ---------> True,2 -------> Output is 0"
   ]
  },
  {
   "cell_type": "code",
   "execution_count": 9,
   "id": "03989465",
   "metadata": {},
   "outputs": [
    {
     "name": "stdout",
     "output_type": "stream",
     "text": [
      "True\n",
      "True\n",
      "True\n",
      "-2\n",
      "4\n",
      "0\n"
     ]
    }
   ],
   "source": [
    "\n",
    "\n",
    "\n",
    "print(True & True)\n",
    "print(True | False)\n",
    "print(True ^ False)\n",
    "print(~True)\n",
    "print(True<<2)\n",
    "print(True>>2)"
   ]
  },
  {
   "cell_type": "markdown",
   "id": "2f75a7be",
   "metadata": {},
   "source": [
    "8. What is the output of expression inside the print statement. Cross\n",
    "       check before running the program."
   ]
  },
  {
   "cell_type": "code",
   "execution_count": 37,
   "id": "37f97ff6",
   "metadata": {},
   "outputs": [
    {
     "name": "stdout",
     "output_type": "stream",
     "text": [
      "True\n",
      "False\n",
      "True\n",
      "False\n"
     ]
    }
   ],
   "source": [
    "a = True\n",
    "b = True\n",
    "print(a is b)\n",
    "print(a is not b)\n",
    "\n",
    "\n",
    "a = False\n",
    "b = False\n",
    "print(a is b)\n",
    "print(a is not b)"
   ]
  },
  {
   "cell_type": "markdown",
   "id": "4c09a362",
   "metadata": {},
   "source": [
    "9. Membership operation\n",
    "    \n",
    "    in, not in are two membership operators and it returns boolean value"
   ]
  },
  {
   "cell_type": "code",
   "execution_count": 38,
   "id": "352090a2",
   "metadata": {},
   "outputs": [
    {
     "name": "stdout",
     "output_type": "stream",
     "text": [
      "True\n",
      "True\n",
      "True\n",
      "True\n",
      "True\n"
     ]
    }
   ],
   "source": [
    "print(True in [10,10.20,10+20j,'Python', True])\n",
    "print(False in (10,10.20,10+20j,'Python', False))\n",
    "print(True in {1,2,3, True})\n",
    "print(True in {True:100, False:200, True:300})\n",
    "print(False in {True:100, False:200, True:300})"
   ]
  },
  {
   "cell_type": "code",
   "execution_count": null,
   "id": "76be01c5",
   "metadata": {},
   "outputs": [],
   "source": []
  }
 ],
 "metadata": {
  "kernelspec": {
   "display_name": "Python 3 (ipykernel)",
   "language": "python",
   "name": "python3"
  },
  "language_info": {
   "codemirror_mode": {
    "name": "ipython",
    "version": 3
   },
   "file_extension": ".py",
   "mimetype": "text/x-python",
   "name": "python",
   "nbconvert_exporter": "python",
   "pygments_lexer": "ipython3",
   "version": "3.9.13"
  }
 },
 "nbformat": 4,
 "nbformat_minor": 5
}
