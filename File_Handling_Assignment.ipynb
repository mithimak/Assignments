{
 "cells": [
  {
   "cell_type": "code",
   "execution_count": 2,
   "metadata": {},
   "outputs": [
    {
     "name": "stdout",
     "output_type": "stream",
     "text": [
      "Hi\n",
      "\n",
      "This is a sample file\n",
      "\n",
      "writing random lines to fill up the file\n",
      "\n",
      "This is the fourth line \n",
      "\n",
      "This is the fifth line \n",
      "\n",
      "Bye\n"
     ]
    }
   ],
   "source": [
    "# Write a function in python to read the content from \n",
    "# a text file \"poem.txt\" line by line and display the same on screen.\n",
    "# Create a file \"poem.txt\" with some content\n",
    "\n",
    "\n",
    "fh=open('poem.txt','wt')\n",
    "fh.write(\"Hi\")\n",
    "fh.write(\"\\nThis is a sample file\")\n",
    "fh.write(\"\\nwriting random lines to fill up the file\")\n",
    "fh.write(\"\\nThis is the fourth line \")\n",
    "fh.write(\"\\nThis is the fifth line \")\n",
    "fh.write(\"\\nBye\")\n",
    "fh.close()\n",
    "\n",
    "def readlines1():\n",
    "    fh = open(\"poem.txt\", \"rt\")\n",
    "    contents=fh.readline()\n",
    "    while contents!=\"\": \n",
    "        print(contents)\n",
    "        contents=fh.readline()\n",
    "        \n",
    "    fh.close()\n",
    "readlines1()        "
   ]
  },
  {
   "cell_type": "code",
   "execution_count": 6,
   "metadata": {},
   "outputs": [
    {
     "name": "stdout",
     "output_type": "stream",
     "text": [
      "3\n"
     ]
    }
   ],
   "source": [
    "# Write a function in python to count the number of lines \n",
    "# from a text file \"story.txt\" which is not starting with an alphabet \"T\". \n",
    "\n",
    "# Example: If the file \"story.txt\" contains the following lines: A boy is playing there.\n",
    "# There is a playground.\n",
    "# An aeroplane is in the sky.\n",
    "# The sky is pink.\n",
    "# Alphabets and numbers are allowed in the password.\n",
    "# The function should display the output as 3\n",
    "\n",
    "fh=open('story.txt','wt')\n",
    "fh.write(\"A boy is playing there\")\n",
    "fh.write(\"\\nThere is a playground.\")\n",
    "fh.write(\"\\nAn aeroplane is in the sky\")\n",
    "fh.write(\"\\nThe sky is pink\")\n",
    "fh.write(\"\\nAlphabets and numbers are allowed in the password and safe\")\n",
    "fh.write(\"\\nThe sky is red\")\n",
    "fh.close()\n",
    "\n",
    "def countlines(a='story.txt',b='rt'):\n",
    "    count=0\n",
    "    fh=open(a,b)\n",
    "    contents=fh.readline()\n",
    "    while contents!=\"\":\n",
    "        if contents[0]==\"T\":\n",
    "            count=count+1\n",
    "        contents=fh.readline()\n",
    "    print(count)\n",
    "    fh.close()\n",
    "     \n",
    "countlines(\"story.txt\",\"rt\")    "
   ]
  },
  {
   "cell_type": "code",
   "execution_count": 9,
   "metadata": {},
   "outputs": [
    {
     "name": "stdout",
     "output_type": "stream",
     "text": [
      "33\n"
     ]
    }
   ],
   "source": [
    "# Write a function in Python to count and display the total number of words in a text file.\n",
    "\n",
    "def countwords(filename,mode):\n",
    "    fh=open(filename,mode)\n",
    "    contents=fh.read()\n",
    "    fh.close()\n",
    "    lis=contents.split()\n",
    "    count=0\n",
    "    for i in lis:\n",
    "        count=count+1\n",
    "    print(count)\n",
    "\n",
    "\n",
    "filename='story.txt'\n",
    "mode='rt'\n",
    "countwords(filename,mode)"
   ]
  },
  {
   "cell_type": "code",
   "execution_count": 12,
   "metadata": {},
   "outputs": [
    {
     "data": {
      "text/plain": [
       "5"
      ]
     },
     "execution_count": 12,
     "metadata": {},
     "output_type": "execute_result"
    }
   ],
   "source": [
    "# Write a function in Python to read lines from a text file \"notes.txt\". \n",
    "# Your function should find and display the occurrence of the word \"the\".\n",
    "\n",
    "# For example: If the content of the file is:\n",
    "# \"India is the fastest-growing economy. India is looking for more investments around the globe. The whole world is looking at India as a great market. Most of the Indians can foresee the heights that India is capable of reaching.\"\n",
    "\n",
    "# The output should be 5.\n",
    "\n",
    "fh=open(\"notes.txt\",\"wt\")\n",
    "fh.write(\"India is the fastest-growing economy. India is looking for more investments around the globe. The whole world is looking at India as a great market. Most of the Indians can foresee the heights that India is capable of reaching.\")\n",
    "fh.close()\n",
    "\n",
    "filename='notes.txt'\n",
    "mode='rt'\n",
    "def spotThe(filename,mode):\n",
    "    fh=open(filename,mode)\n",
    "    contents=fh.read()\n",
    "    fh.close()\n",
    "    lis=contents.split()\n",
    "    for i in lis:\n",
    "        count=0\n",
    "        for i in lis:\n",
    "            i=i.lower()\n",
    "            if i=='the':\n",
    "                count=count+1\n",
    "        return count\n",
    "\n",
    "\n",
    "spotThe('notes.txt','rt')\n",
    "\n"
   ]
  },
  {
   "cell_type": "code",
   "execution_count": 14,
   "metadata": {},
   "outputs": [
    {
     "name": "stdout",
     "output_type": "stream",
     "text": [
      "A\n",
      "boy\n",
      "is\n",
      "is\n",
      "a\n",
      "An\n",
      "is\n",
      "in\n",
      "the\n",
      "sky\n",
      "The\n",
      "sky\n",
      "is\n",
      "and\n",
      "are\n",
      "in\n",
      "the\n",
      "and\n",
      "The\n",
      "sky\n",
      "is\n",
      "red\n"
     ]
    }
   ],
   "source": [
    "# Write a function display_words() in python to read lines from a text file \"story.txt\", \n",
    "# and display those words, which are less than 4 characters.\n",
    "\n",
    "def smallerthan4(filename,mode):\n",
    "    fh=open(filename,mode)\n",
    "    contents=fh.read()\n",
    "    fh.close()\n",
    "    lis=contents.split()\n",
    "    for i in lis:\n",
    "        if len(i)<4:\n",
    "            print(i)\n",
    "smallerthan4('story.txt','rt')"
   ]
  },
  {
   "cell_type": "code",
   "execution_count": 50,
   "metadata": {},
   "outputs": [
    {
     "name": "stdout",
     "output_type": "stream",
     "text": [
      "['open', \"watcom's\", 'history', 'is', 'long.', 'this', 'dates', 'back', 'to', 'a', 'fortran', 'compiler', 'created', 'by', 'a', 'group', 'of', 'undergraduate', 'students', 'at', 'these', 'university', 'of', 'waterloo', 'in', 'the', '1960s.', 'in', 'the', 'late', '1980s', 'a', 'c', 'compiler', 'was', 'also', 'created.', 'this', 'first', 'commercial', 'pc', 'version', 'of', 'watcom,', 'version', '6.0,', 'was', 'released', 'in', '1988.', 'these', 'watcom', 'product', 'was', 'popular', 'in', 'the', 'mid-1990s,', 'especially', 'with', 'game', 'developers,', 'because', 'of', 'the', 'fast', 'code', 'that', 'it', 'generated', 'compared', 'to', 'other', 'compilers', 'of', 'this', 'time.', 'a', 'corresponding', 'c++', 'compiler', 'was', 'released', 'with', 'version', '9.5', 'in', '1993,', 'and', 'the', 'these', 'languages', 'have', 'been', 'a', 'part', 'of', 'the', 'system', 'ever', 'since.'] \n",
      "\n",
      "This or That is present in the following position - 5\n",
      "This or That is present in the following position - 20\n",
      "This or That is present in the following position - 5\n",
      "This or That is present in the following position - 20\n",
      "This or That is present in the following position - 5\n",
      "This or That is present in the following position - 20\n",
      "\n",
      "6 is the total number of this & that were present in article.txt file\n",
      "\n"
     ]
    }
   ],
   "source": [
    "# Write a function in Python to count the words \"this\" and \"these\" present in a text file \"article.txt\". \n",
    "# [Note that the words \"this\" and \"these\" are complete words] \n",
    "\n",
    "fh=open('article.txt','wt')\n",
    "fh.write(\"\"\"Open Watcom's history is long. This dates back to a FORTRAN compiler created by a group of\n",
    "undergraduate students at these University of Waterloo in the 1960s. In the late 1980s a C\n",
    "compiler was also created. This first commercial PC version of Watcom, version 6.0, was released\n",
    "in 1988. These Watcom product was popular in the mid-1990s, especially with game developers,\n",
    "because of the fast code that it generated compared to other compilers of this time. A\n",
    "corresponding C++ compiler was released with version 9.5 in 1993, and the these languages have\n",
    "been a part of the system ever since.\"\"\")\n",
    "fh.close()\n",
    "\n",
    "\n",
    "def this_these(filename,mode):\n",
    "    fh=open(filename,mode)\n",
    "    contents=fh.read()\n",
    "    fh.close()\n",
    "    contents=contents.lower()\n",
    "    lis=contents.split()\n",
    "    count=0\n",
    "    for i in lis:\n",
    "        if i==\"this\" or i==\"these\":\n",
    "            count=count+1\n",
    "            print(f'This or That is present in the following position - {lis.index(i)}')\n",
    "    print(f'\\n{count} is the total number of this & that were present in {filename} file'+'\\n')\n",
    "        \n",
    "filename='article.txt'\n",
    "mode='rt'\n",
    "print(lis,'\\n')\n",
    "this_these(filename,mode)\n",
    "        "
   ]
  },
  {
   "cell_type": "code",
   "execution_count": 192,
   "metadata": {},
   "outputs": [
    {
     "name": "stdout",
     "output_type": "stream",
     "text": [
      "India is the fastest-growing economy. India is looking for more investments around the globe. The whole world is looking at India as a great market. Most of the Indians can foresee the heights that India is capable of reaching.\n"
     ]
    },
    {
     "data": {
      "text/plain": [
       "9"
      ]
     },
     "execution_count": 192,
     "metadata": {},
     "output_type": "execute_result"
    }
   ],
   "source": [
    "# Write a function in Python to count words in a text file those are ending with alphabet \"e\"\n",
    "\n",
    "filename='notes.txt'\n",
    "mode='rt'\n",
    "def endwith_e(filename,mode):\n",
    "    fh=open(filename,mode)\n",
    "    contents=fh.read()\n",
    "    fh.close()\n",
    "    lis=contents.split()\n",
    "    count=0\n",
    "    for i in lis:\n",
    "        i=i.lower()\n",
    "        if i[-1]=='e':\n",
    "            count=count+1\n",
    "    return count\n",
    "print(contents)    \n",
    "endwith_e('notes.txt','rt')"
   ]
  },
  {
   "cell_type": "code",
   "execution_count": 206,
   "metadata": {},
   "outputs": [
    {
     "name": "stdout",
     "output_type": "stream",
     "text": [
      "India is the fastest-growing economy. India is looking for more investments around the globe. The whole world is looking at India as a great market. Most of the Indians can foresee the heights that India is capable of reaching.\n",
      "\n",
      "The number of uppercaseletters are 7\n"
     ]
    }
   ],
   "source": [
    "# Write a function in Python to count uppercase character in a text file.\n",
    "\n",
    "def upper_case(filename,mode):\n",
    "    fh=open(filename,mode)\n",
    "    contents=fh.read()\n",
    "    fh.close()\n",
    "    count=0\n",
    "    for i in contents:\n",
    "        if i.isupper()==True:\n",
    "            count=count+1\n",
    "    print(f'\\nThe number of uppercaseletters are {count}')\n",
    "    \n",
    "print(contents)\n",
    "\n",
    "upper_case('notes.txt','rt')"
   ]
  },
  {
   "cell_type": "code",
   "execution_count": 57,
   "metadata": {},
   "outputs": [
    {
     "name": "stdout",
     "output_type": "stream",
     "text": [
      "T#H#E# #W#O#R#L#D# #I#S# #R#O#U#N#D#\n"
     ]
    }
   ],
   "source": [
    "# A text file named \"matter.txt\" contains some text, which needs to be displayed such that \n",
    "# every next character is separated by a symbol \"#\". \n",
    "# Write a function definition for hash_display() in Python that would display \n",
    "# the entire content of the file matter.txt in the desired format.\n",
    "\n",
    "# Example :\n",
    "# If the file matter.txt has the following content stored in it :\n",
    "# THE WORLD IS ROUND\n",
    "\n",
    "# The function hash_display() should display the following content :\n",
    "# T#H#E# #W#O#R#L#D# #I#S# #R#O#U#N#D#\n",
    "\n",
    "fh=open('matter.txt','wt')\n",
    "fh.write('THE WORLD IS ROUND')\n",
    "fh.close()\n",
    "\n",
    "def hash_display(filename,mode):\n",
    "    fh=open(filename,mode)\n",
    "    contents=fh.read()\n",
    "    fh.close()\n",
    "    hash_display=\"\"\n",
    "    for i in contents:\n",
    "        hash_display+=i+'#'\n",
    "    print(hash_display)\n",
    "        \n",
    "\n",
    "filename='matter.txt'\n",
    "mode='rt'\n",
    "hash_display(filename,mode)\n"
   ]
  },
  {
   "cell_type": "code",
   "execution_count": 80,
   "metadata": {},
   "outputs": [
    {
     "name": "stdout",
     "output_type": "stream",
     "text": [
      "WELL, THIS IS A WORD BY ITSELF. YOU COULD STRETCH THIS TO BE A SENTENCE\n"
     ]
    }
   ],
   "source": [
    "# Aditi has used a text editing software to type some text. After saving the article as WORDS.TXT, \n",
    "# she realised that she has wrongly typed alphabet J in place of alphabet I everywhere in the article.\n",
    "# Write a function definition for JTOI() in Python that would display the corrected version of entire content \n",
    "# of the file WORDS.TXT with all the alphabets \"J\" to be displayed as an alphabet \"I\" on screen.\n",
    "\n",
    "# Note: Assuming that WORD.TXT does not contain any J alphabet otherwise.\n",
    "\n",
    "# Example:\n",
    "# If Aditi has stored the following content in the file WORDS.TXT:\n",
    "# WELL, THJS JS A WORD BY JTSELF. YOU COULD STRETCH THJS TO BE A SENTENCE\n",
    "# The function JTOI() should display the following content:\n",
    "# WELL, THIS IS A WORD BY ITSELF. YOU COULD STRETCH THIS TO BE A SENTENCE\n",
    "\n",
    "fh=open('JTOI.txt','wt')\n",
    "fh.write('WELL, THJS JS A WORD BY JTSELF. YOU COULD STRETCH THJS TO BE A SENTENCE')\n",
    "fh.close()\n",
    "\n",
    "def JTOI(filename,mode):\n",
    "    fh=open(filename,mode)\n",
    "    contents=fh.read()\n",
    "    fh.close()\n",
    "    contents=contents.replace(\"J\",\"I\")\n",
    "    print(contents)\n",
    "        \n",
    "filename='JTOI.txt'\n",
    "mode='rt'\n",
    "JTOI(filename,mode)\n"
   ]
  },
  {
   "cell_type": "code",
   "execution_count": 68,
   "metadata": {},
   "outputs": [
    {
     "name": "stdout",
     "output_type": "stream",
     "text": [
      "A or a :4\n",
      "M or m :2\n"
     ]
    }
   ],
   "source": [
    "# Write a function AMCount() in Python, which should read each character of a text file STORY.TXT, \n",
    "# should count and display the occurance of alphabets A and M (including small cases a and m too).\n",
    "# For Example:\n",
    "# If the file content is as follows:\n",
    "# Updated information\n",
    "# As simplified by official websites.\n",
    "# The EUCount() function should display the output as:\n",
    "# A or a:4\n",
    "# M or m :2\n",
    "\n",
    "fh=open(\"story.txt\",\"wt\")\n",
    "fh.write('Updated information\\nAs simplified by official websites.')\n",
    "fh.close()\n",
    "\n",
    "def AMcount(filename,mode):\n",
    "    fh=open(filename,mode)\n",
    "    contents=fh.read()\n",
    "    contents=contents.lower()\n",
    "    fh.close()\n",
    "    \n",
    "    countA=0\n",
    "    countM=0\n",
    "    for i in contents:\n",
    "        if i=='a':\n",
    "            countA+=1\n",
    "        elif i==\"m\":\n",
    "            countM+=1\n",
    "\n",
    "    print(f'A or a :{countA}')\n",
    "    print(f'M or m :{countM}')\n",
    "    \n",
    "\n",
    "filename='story.txt'\n",
    "mode='rt'\n",
    "AMcount(filename,mode)        "
   ]
  },
  {
   "cell_type": "code",
   "execution_count": 12,
   "metadata": {},
   "outputs": [],
   "source": [
    "# A binary file \"Book.dat\" has structure [BookNo, Book_Name, Author, Price].\n",
    "# i. Write a user defined function createFile() to input data for a record and add to Book.dat.\n",
    "# ii. Write a function countRec(Author) in Python which accepts the Author name as parameter \n",
    "# and count and return number of books by the given Author are stored in the binary file \"Book.dat\"\n",
    "\n",
    "fh=open(\"book.dat1\",\"xb\")\n",
    "fh.close()"
   ]
  },
  {
   "cell_type": "code",
   "execution_count": 13,
   "metadata": {},
   "outputs": [],
   "source": [
    "def createfile(filename):\n",
    "    import pickle\n",
    "    fh=open(filename,\"wb\")\n",
    "    bookdata=eval(input('Give BookNo,Bookname,Author,Price:- '))\n",
    "    pickle.dump(bookdata,fh)\n",
    "    fh.close\n",
    "    \n",
    "def countrec(filename,author):\n",
    "    fh=open(filename,\"rb\")\n",
    "    pickle.load(fh)\n",
    "    \n",
    "            \n",
    "\n",
    "\n",
    "    "
   ]
  },
  {
   "cell_type": "code",
   "execution_count": null,
   "metadata": {},
   "outputs": [],
   "source": [
    "# A binary file \"STUDENT.DAT\" has structure (admission_number, Name, Percentage). \n",
    "# Write a function count_rec() in Python that would read contents of the file \"STUDENT.DAT\" \n",
    "# and display the details of those students whose percentage is above 75. \n",
    "# Also display number of students scoring above 75%"
   ]
  },
  {
   "cell_type": "code",
   "execution_count": 81,
   "metadata": {},
   "outputs": [],
   "source": [
    "# Given a binary file employee.dat, created using dictionary object having keys: (empcode, name, and salary)\n",
    "\n",
    "# Write a python function that add one more record at the end of file.\n",
    "# Write a python function that display all employee records whose salary is more that 30000\n"
   ]
  },
  {
   "cell_type": "code",
   "execution_count": null,
   "metadata": {},
   "outputs": [],
   "source": [
    "# Write a function to search and display details of student whose rollno is '1005' \n",
    "# from the binary file student.dat having structure [rollno, name, class and fees]."
   ]
  },
  {
   "cell_type": "code",
   "execution_count": null,
   "metadata": {},
   "outputs": [],
   "source": [
    "# A binary file school.dat has structure(rollno, name, class, fees)\n",
    "\n",
    "# Write a definition for function total_fees( ) that reads each object of file and calculate \n",
    "# the total fees of students and display the same."
   ]
  },
  {
   "cell_type": "code",
   "execution_count": null,
   "metadata": {},
   "outputs": [],
   "source": [
    "# A binary file players.dat, containing records of following list format: [code, name, country and total runs]\n",
    "\n",
    "# 1. Write a python function that display all records where player name starts from 'A'\n",
    "# 2. Write a python function that accept country as an argument and count and display \n",
    "#     the number of players of that country.\n",
    "# 3. Write a python function that add one record at the end of file."
   ]
  },
  {
   "cell_type": "code",
   "execution_count": null,
   "metadata": {
    "ExecuteTime": {
     "end_time": "2021-05-29T10:46:59.140338Z",
     "start_time": "2021-05-29T10:46:59.135100Z"
    }
   },
   "outputs": [],
   "source": [
    "# Given a binary file game.dat, containing records of following list format: [game_name, participants]\n",
    "\n",
    "# Write a function in Python that would read contents from the file game.dat and \n",
    "# creates a file named basket.dat copying only those records from game.dat where the game name is \"Basket Ball\""
   ]
  }
 ],
 "metadata": {
  "kernelspec": {
   "display_name": "Python 3 (ipykernel)",
   "language": "python",
   "name": "python3"
  },
  "language_info": {
   "codemirror_mode": {
    "name": "ipython",
    "version": 3
   },
   "file_extension": ".py",
   "mimetype": "text/x-python",
   "name": "python",
   "nbconvert_exporter": "python",
   "pygments_lexer": "ipython3",
   "version": "3.9.13"
  }
 },
 "nbformat": 4,
 "nbformat_minor": 2
}
