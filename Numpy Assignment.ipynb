{
 "cells": [
  {
   "cell_type": "code",
   "execution_count": 2,
   "id": "526a27d9",
   "metadata": {},
   "outputs": [],
   "source": [
    "import numpy as np"
   ]
  },
  {
   "cell_type": "code",
   "execution_count": 12,
   "id": "8aa8ad19",
   "metadata": {},
   "outputs": [
    {
     "name": "stdout",
     "output_type": "stream",
     "text": [
      "1.21.5\n"
     ]
    }
   ],
   "source": [
    "# Write a Python program to print the NumPy version in your system.\n",
    "\n",
    "import numpy as np\n",
    "print(np.__version__)"
   ]
  },
  {
   "cell_type": "code",
   "execution_count": 32,
   "id": "7c77aaff",
   "metadata": {},
   "outputs": [
    {
     "data": {
      "text/plain": [
       "array([[9, 8, 7],\n",
       "       [6, 5, 4],\n",
       "       [3, 2, 1]])"
      ]
     },
     "execution_count": 32,
     "metadata": {},
     "output_type": "execute_result"
    }
   ],
   "source": [
    "# Write a Python program to reverse an array (first element becomes last).\n",
    "a=np.array([[1,2,3],\n",
    "            [4,5,6],\n",
    "           [7,8,9]])\n",
    "np.flip(a)"
   ]
  },
  {
   "cell_type": "code",
   "execution_count": 26,
   "id": "d635a26a",
   "metadata": {},
   "outputs": [
    {
     "name": "stdout",
     "output_type": "stream",
     "text": [
      "[1 2 3 4]\n",
      "['a' 'b' 'c']\n"
     ]
    }
   ],
   "source": [
    "# Write a Python program to convert a list and tuple into arrays.\n",
    "\n",
    "def converttoarr(a:\"list/Tuple\"):\n",
    "    arr1=np.array(a)\n",
    "    return arr1\n",
    "\n",
    "t1=1,2,3,4\n",
    "print(converttoarr(t1))\n",
    "\n",
    "l1=[\"a\",\"b\",\"c\"]\n",
    "print(converttoarr(l1))\n",
    "    "
   ]
  },
  {
   "cell_type": "code",
   "execution_count": 7,
   "id": "4c298189",
   "metadata": {},
   "outputs": [
    {
     "name": "stdout",
     "output_type": "stream",
     "text": [
      "[[ 1  2  3  4]\n",
      " [ 5  6  7  8]\n",
      " [ 9 10 11 12]]\n",
      "[[  5  22  35   4]\n",
      " [  5   6  78   8]\n",
      " [  9  10 111  12]]\n",
      "\n",
      "[ 4  5  6  8  9 10 12]\n"
     ]
    }
   ],
   "source": [
    "# Write a Python program to find common values between two arrays.\n",
    "\n",
    "def common_values(a:\"array1\",b:\"array2\"):\n",
    "    reshaped_arry1= np.reshape(a,(a.size,))\n",
    "    reshaped_arry2= np.reshape(b,(b.size,))\n",
    "\n",
    "    print(np.intersect1d(a, b)) \n",
    "\n",
    "\n",
    "a=np.array([[1,2,3,4],\n",
    "           [5,6,7,8],\n",
    "           [9,10,11,12]])\n",
    "b=np.array([[5,22,35,4],\n",
    "           [5,6,78,8],\n",
    "           [9,10,111,12]])\n",
    "print(a)\n",
    "print(b)\n",
    "\n",
    "print()\n",
    "common_values(a,b)"
   ]
  },
  {
   "cell_type": "code",
   "execution_count": 3,
   "id": "b167c6b6",
   "metadata": {},
   "outputs": [
    {
     "name": "stdout",
     "output_type": "stream",
     "text": [
      "comparing 2 arrays:\n"
     ]
    },
    {
     "data": {
      "text/plain": [
       "array([[False,  True, False,  True],\n",
       "       [False, False,  True,  True]])"
      ]
     },
     "execution_count": 3,
     "metadata": {},
     "output_type": "execute_result"
    }
   ],
   "source": [
    "# Write a Python program compare two arrays using numpy.\n",
    "\n",
    "arr2=np.array([[1,2,3,4],\n",
    "              [4,44,56,78]])\n",
    "arr3=np.array([[9,2,5,4],\n",
    "               [9,0,56,78]])\n",
    "print(\"comparing 2 arrays:\")\n",
    "arr2==arr3"
   ]
  },
  {
   "cell_type": "code",
   "execution_count": 44,
   "id": "ed3e5718",
   "metadata": {},
   "outputs": [
    {
     "name": "stdout",
     "output_type": "stream",
     "text": [
      "original array [[9 8 7]\n",
      " [6 5 4]\n",
      " [3 2 1]]\n",
      "\n",
      "original shape (3, 3)\n",
      "\n",
      "new array[9 8 7 6 5 4 3 2 1]\n",
      "\n",
      "changed shape(9,)\n"
     ]
    }
   ],
   "source": [
    "# Write a Python program to change the dimension of an array.\n",
    "\n",
    "def reshape_(a):\n",
    "    print(f'original array {a}')\n",
    "    print()\n",
    "    print(f'original shape {a.shape}')\n",
    "    z=np.reshape(a,(a.size,))\n",
    "    print()\n",
    "    print(f'new array{z}')\n",
    "    print()\n",
    "    print(f'changed shape{z.shape}')\n",
    "    \n",
    "arr=np.array([[9, 8, 7],\n",
    "       [6, 5, 4],\n",
    "       [3, 2, 1]])    \n",
    "reshape_(arr)"
   ]
  },
  {
   "cell_type": "code",
   "execution_count": 46,
   "id": "6199977f",
   "metadata": {},
   "outputs": [
    {
     "data": {
      "text/plain": [
       "2418"
      ]
     },
     "execution_count": 46,
     "metadata": {},
     "output_type": "execute_result"
    }
   ],
   "source": [
    "# Write a Python program (using numpy) to sum of all the multiples of 3 or 5 below 100.\n",
    "\n",
    "a=np.linspace(1,100,100,dtype=np.int32)\n",
    "b=np.where((a%3==0)|(a%5==0),a,0).sum()\n",
    "b"
   ]
  },
  {
   "cell_type": "code",
   "execution_count": 32,
   "id": "1eac3c3d",
   "metadata": {},
   "outputs": [
    {
     "name": "stdout",
     "output_type": "stream",
     "text": [
      "[1, 2, 34, 5]\n",
      "<class 'list'>\n"
     ]
    }
   ],
   "source": [
    "# Write a Python program to convert a NumPy array into Python list structure. \n",
    "\n",
    "arry=np.array([1,2,34,5])\n",
    "a=arry.tolist()\n",
    "print(a)\n",
    "print(type(a))"
   ]
  },
  {
   "cell_type": "code",
   "execution_count": 26,
   "id": "180f35e5",
   "metadata": {},
   "outputs": [
    {
     "data": {
      "text/plain": [
       "array([[1, 2, 5],\n",
       "       [3, 4, 6]])"
      ]
     },
     "execution_count": 26,
     "metadata": {},
     "output_type": "execute_result"
    }
   ],
   "source": [
    "# Write a Python program to how to add an extra column to a numpy array.\n",
    "\n",
    "arr=np.array([[1,2],\n",
    "              [3,4]])\n",
    "\n",
    "arr2=np.array([5,6])\n",
    "newarry=np.insert(arr,2,arr2,axis=1)\n",
    "newarry"
   ]
  },
  {
   "cell_type": "code",
   "execution_count": 110,
   "id": "8f13688b",
   "metadata": {},
   "outputs": [
    {
     "data": {
      "text/plain": [
       "'array[] is Empty'"
      ]
     },
     "execution_count": 110,
     "metadata": {},
     "output_type": "execute_result"
    }
   ],
   "source": [
    "# Write a Python program to check whether the numpy array is empty or not.\n",
    "def isempty(array:\"Give array as an entry\"):\n",
    "    if array.size<1:\n",
    "        return f\"array{array} is Empty\"\n",
    "    else:\n",
    "        return f\"array {array} is Not Empty\"\n",
    "    \n",
    "arry=np.array([])    \n",
    "isempty(arry)"
   ]
  },
  {
   "cell_type": "code",
   "execution_count": 36,
   "id": "4d0cc48c",
   "metadata": {},
   "outputs": [
    {
     "name": "stdout",
     "output_type": "stream",
     "text": [
      "[inf]\n"
     ]
    }
   ],
   "source": [
    "# How to ignore all numpy warnings (not recommended)?\n",
    "\n",
    "np.seterr(all=\"ignore\")\n",
    "ArrayOf1 = np.array([1])\n",
    "ArrayOf0 = np.array([0])\n",
    "Output = ArrayOf1 / ArrayOf0\n",
    "print(Output)"
   ]
  },
  {
   "cell_type": "code",
   "execution_count": 30,
   "id": "6e8daa3c",
   "metadata": {},
   "outputs": [
    {
     "data": {
      "text/plain": [
       "array([[4, 5, 6],\n",
       "       [1, 2, 3]])"
      ]
     },
     "execution_count": 30,
     "metadata": {},
     "output_type": "execute_result"
    }
   ],
   "source": [
    "# How to swap two rows of an array?\n",
    "\n",
    "a=np.array([[1,2,3],\n",
    "            [4,5,6]])\n",
    "\n",
    "swap_rows=np.stack([a[-1],a[0]],axis=0)\n",
    "swap_rows"
   ]
  },
  {
   "cell_type": "code",
   "execution_count": 31,
   "id": "4f737019",
   "metadata": {},
   "outputs": [
    {
     "data": {
      "text/plain": [
       "array([38, 44, 55, 64, 65, 68, 75, 85, 93, 94])"
      ]
     },
     "execution_count": 31,
     "metadata": {},
     "output_type": "execute_result"
    }
   ],
   "source": [
    "# Python program to create a random vector of size 10 and sort it.\n",
    "\n",
    "def sortedrandvec():\n",
    "    randvec=np.random.randint(1,100,(10,))\n",
    "    sortedvec=np.sort(randvec)\n",
    "    return sortedvec\n",
    "\n",
    "#only call the function to get a sorted random vector 1d-Array\n",
    "\n",
    "sortedrandvec()"
   ]
  },
  {
   "cell_type": "code",
   "execution_count": 19,
   "id": "86faf267",
   "metadata": {},
   "outputs": [
    {
     "name": "stdout",
     "output_type": "stream",
     "text": [
      "First array:\n",
      "[1 1 0 1 0 0]\n",
      "Second array:\n",
      "[1 0 1 0 0 0]\n",
      "Test above two arrays are equal or not!\n",
      "False\n"
     ]
    }
   ],
   "source": [
    "# Write a Python program to check two random arrays are equal or not.\n",
    "import numpy as np\n",
    "x = np.random.randint(0,2,(6,))\n",
    "print(\"First array:\")\n",
    "print(x)\n",
    "y = np.random.randint(0,2,6)\n",
    "print(\"Second array:\")\n",
    "print(y)\n",
    "print(\"Test above two arrays are equal or not!\")\n",
    "array_equal = np.allclose(x, y)\n",
    "print(array_equal)"
   ]
  },
  {
   "cell_type": "code",
   "execution_count": 10,
   "id": "ab794872",
   "metadata": {},
   "outputs": [
    {
     "name": "stdout",
     "output_type": "stream",
     "text": [
      "[6 4]\n",
      "[2 0]\n",
      "[8 4]\n",
      "[2. 1.]\n"
     ]
    }
   ],
   "source": [
    "# Write a Python program to add, subtract, multiply, divide arguments element-wise.\n",
    "\n",
    "def computeele(arry:\"Give an array\",int1: \"Give an num in int format for operation\"):\n",
    "    \n",
    "    add=arry+int1\n",
    "    print(add)\n",
    "\n",
    "    sub=arry-int1\n",
    "    print(sub)\n",
    "\n",
    "    mul=arry*int1\n",
    "    print(mul)\n",
    "\n",
    "    div=arry/int1\n",
    "    print(div)\n",
    "\n",
    "arr=np.array([4,2]) #calling the function compele\n",
    "int1=2\n",
    "computeele(arr,int1)"
   ]
  },
  {
   "cell_type": "code",
   "execution_count": 61,
   "id": "adf952ed",
   "metadata": {},
   "outputs": [
    {
     "name": "stdout",
     "output_type": "stream",
     "text": [
      "2022-12-12\n",
      "2022-12-13\n",
      "2022-12-11\n"
     ]
    }
   ],
   "source": [
    "# Write a Python program to get the dates of yesterday, today and tomorrow.\n",
    "\n",
    "tod=np.datetime64(\"today\",\"D\")\n",
    "print(tod)\n",
    "\n",
    "tom=np.datetime64(\"today\",\"D\")+1\n",
    "print(tom)\n",
    "\n",
    "yes=np.datetime64(\"today\",\"D\")-1\n",
    "print(yes)"
   ]
  },
  {
   "cell_type": "code",
   "execution_count": null,
   "id": "d9d49c7a",
   "metadata": {},
   "outputs": [],
   "source": []
  }
 ],
 "metadata": {
  "kernelspec": {
   "display_name": "Python 3 (ipykernel)",
   "language": "python",
   "name": "python3"
  },
  "language_info": {
   "codemirror_mode": {
    "name": "ipython",
    "version": 3
   },
   "file_extension": ".py",
   "mimetype": "text/x-python",
   "name": "python",
   "nbconvert_exporter": "python",
   "pygments_lexer": "ipython3",
   "version": "3.9.13"
  }
 },
 "nbformat": 4,
 "nbformat_minor": 5
}
