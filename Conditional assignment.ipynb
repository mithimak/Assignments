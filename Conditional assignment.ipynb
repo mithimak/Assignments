{
 "cells": [
  {
   "cell_type": "code",
   "execution_count": 1,
   "id": "060501cb",
   "metadata": {},
   "outputs": [],
   "source": [
    "# Q. W. A P. which takes one number from 0 to 9 from the user and prints\n",
    "# it in the word. And if the word is not from 0 to 9 then\n",
    "# it should print that number is outside of the range and program should\n",
    "# exit.\n",
    "\n",
    "# For exapmple:-\n",
    "# input = 1\n",
    "# output = one"
   ]
  },
  {
   "cell_type": "code",
   "execution_count": 11,
   "id": "77f37ce4",
   "metadata": {},
   "outputs": [
    {
     "name": "stdout",
     "output_type": "stream",
     "text": [
      "please enter a number:- 9\n",
      "Nine\n"
     ]
    }
   ],
   "source": [
    "dict1 = {0:\"Zero\",1:\"One\",2:\"Two\",3:\"Three\",4:\"four\",5:\"Five\",6:\"six\",7:\"Seven\",8:\"Eight\",9:\"Nine\"}\n",
    "num1 = int(input(\"please enter a number:- \"))\n",
    "n = num1 \n",
    "           \n",
    "if n in dict1:\n",
    "    print(dict1[n])\n",
    "else:print(f'{n} is out of the range')\n",
    "           "
   ]
  },
  {
   "cell_type": "code",
   "execution_count": 2,
   "id": "64819948",
   "metadata": {},
   "outputs": [],
   "source": [
    "# Q. W. A P. to implement calculator but the operation to be done and two\n",
    "# numbers will be taken as input from user:-\n",
    "# Operation console should show below:-\n",
    "#  Please select any one operation from below:-\n",
    "#  * To add enter 1\n",
    "#  * to subtract enter 2\n",
    "#  * To multiply enter 3\n",
    "#  * To divide enter 4\n",
    "#  * To divide and find quotient enter 5\n",
    "#  * To divide and find remainder enter 6\n",
    "#  * To divide and find num1 to the power of num2 enter 7\n",
    "#  * To Come out of the program enter 8\n"
   ]
  },
  {
   "cell_type": "code",
   "execution_count": 21,
   "id": "3245e0af",
   "metadata": {},
   "outputs": [
    {
     "name": "stdout",
     "output_type": "stream",
     "text": [
      "Enter First num:- 4\n",
      "Enter Second num:- 2\n",
      "A number to operate:- 9\n",
      "Choose Proper Operator to execute\n"
     ]
    }
   ],
   "source": [
    "a= int(input(\"Enter First num:- \"))\n",
    "b= int(input(\"Enter Second num:- \"))\n",
    "c= int(input(\"A number to operate:- \"))\n",
    "if c==1:\n",
    "    print(a+b)\n",
    "elif c==2:\n",
    "    print(a-b)\n",
    "elif c==3:\n",
    "    print(a*b)\n",
    "elif c==4:\n",
    "    print(a/b)\n",
    "elif c==5:\n",
    "    print(a//b)\n",
    "elif c==6:\n",
    "    print(a%b)\n",
    "elif c==7:\n",
    "    print(a**b)\n",
    "elif c==8:\n",
    "    print(\"Exiting the program\")\n",
    "else:print(\"Choose Proper Operator to execute\")    \n",
    "\n",
    "                    \n",
    "        \n",
    "        \n"
   ]
  },
  {
   "cell_type": "code",
   "execution_count": 5,
   "id": "063f81a4",
   "metadata": {},
   "outputs": [],
   "source": [
    "# Q. W A P to check whether a year entered by user is an leap year or not?\n",
    "# Check with below input:-\n",
    "#  leap year:- 2012, 1968, 2004, 1200, 1600,2400\n",
    "#  Non-lear year:- 1971, 2006, 1700,1800,1900"
   ]
  },
  {
   "cell_type": "code",
   "execution_count": 11,
   "id": "fda68d24",
   "metadata": {},
   "outputs": [
    {
     "name": "stdout",
     "output_type": "stream",
     "text": [
      "Provide a year to check:- 2400\n",
      "2400 is a leap year\n"
     ]
    }
   ],
   "source": [
    "year = int(input(\"Provide a year to check:- \"))\n",
    "\n",
    "if ((year%400 == 0) or\n",
    "   (year%100!=0) and\n",
    "   (year%4==0)):\n",
    "    print(f'{year} is a leap year')\n",
    "          \n",
    "else:print(f'{year} is not a leap year')\n"
   ]
  },
  {
   "cell_type": "code",
   "execution_count": 4,
   "id": "6a118086",
   "metadata": {},
   "outputs": [],
   "source": [
    "# Q. W A P which takes one number from the user and checks whether it is\n",
    "# an even or odd number?, If it even then prints number is\n",
    "# even number else prints that number is odd number.\n"
   ]
  },
  {
   "cell_type": "code",
   "execution_count": 10,
   "id": "51624f99",
   "metadata": {},
   "outputs": [
    {
     "name": "stdout",
     "output_type": "stream",
     "text": [
      "Enter a number:- 90\n",
      "90 is an Even number\n"
     ]
    }
   ],
   "source": [
    "EO = int(input(\"Enter a number:- \"))\n",
    "if EO % 2 == 0:\n",
    "    print(f'{EO} is an Even number')\n",
    "else:print(f'{EO} is a odd number')\n"
   ]
  },
  {
   "cell_type": "code",
   "execution_count": 5,
   "id": "2058bb35",
   "metadata": {},
   "outputs": [],
   "source": [
    "# Q. W A P which takes two numbers from the user and prints below output:-\n",
    "#  1. num1 is greater than num2 if num1 is greater than num2\n",
    "#  2. num1 is smaller than num2 if num1 is smaller than num2\n",
    "#  3. num1 is equal to num2 if num1 and num2 are equal\n",
    "\n",
    "# Note:- 1. Do this problem using if - else\n",
    "#  2. Do this using ternary operator\n"
   ]
  },
  {
   "cell_type": "code",
   "execution_count": 28,
   "id": "edc77735",
   "metadata": {},
   "outputs": [
    {
     "name": "stdout",
     "output_type": "stream",
     "text": [
      "Give val1:- 2\n",
      "Give val2:- 3\n",
      "Num2- 3 is greater than Num1- 2\n"
     ]
    }
   ],
   "source": [
    "val1=p=int(input(\"Give val1:- \"))\n",
    "val2=q=int(input(\"Give val2:- \"))\n",
    "\n",
    "print(f\"Num1- {p} is greater than Num2- {q}\" if p>q else f\"Num2- {q} is greater than Num1- {p}\" if p<q else f\"Num1- {p} is equal to Num2- {q}\")"
   ]
  },
  {
   "cell_type": "code",
   "execution_count": null,
   "id": "c760a678",
   "metadata": {},
   "outputs": [],
   "source": [
    "# Q. W A P which takes three numbers from the user and prints below\n",
    "# output:-\n",
    "#  1. num1 is greater than num2 and num3 if num1 is greater than num2\n",
    "# and num3\n",
    "#  2. num2 is greater than num1 and num3 if num2 is greater than num1\n",
    "# and num3\n",
    "#  3. num3 is greater than num1 and num2 if num3 is greater than num1\n",
    "# and num2\n",
    "\n",
    "# Note:- 1. Do this problem using if - elif - else\n",
    "#  2. Do this using ternary operator\n",
    "# a = a if a>b else b\n"
   ]
  },
  {
   "cell_type": "code",
   "execution_count": 25,
   "id": "73377829",
   "metadata": {},
   "outputs": [
    {
     "name": "stdout",
     "output_type": "stream",
     "text": [
      "Input num1:- 2\n",
      "Input num2:- 3\n",
      "Input num3:- 4\n",
      "4-Num3 is greater than Num1-2 and Num2-3\n"
     ]
    }
   ],
   "source": [
    "num1=x=int(input(\"Input num1:- \"))\n",
    "num2=y=int(input(\"Input num2:- \"))\n",
    "num3=z=int(input(\"Input num3:- \"))\n",
    "\n",
    "print(f'{x}-Num1 is greater than Num2-{y} and Num3-{z}' if x>y and x>z else f'{y}-Num2 is greater than Num1-{x} and Num3-{z}' if y>x and y>z else f'{z}-Num3 is greater than Num1-{x} and Num2-{y}')"
   ]
  },
  {
   "cell_type": "code",
   "execution_count": null,
   "id": "27052c61",
   "metadata": {},
   "outputs": [],
   "source": []
  },
  {
   "cell_type": "code",
   "execution_count": null,
   "id": "4444e502",
   "metadata": {},
   "outputs": [],
   "source": []
  }
 ],
 "metadata": {
  "kernelspec": {
   "display_name": "Python 3 (ipykernel)",
   "language": "python",
   "name": "python3"
  },
  "language_info": {
   "codemirror_mode": {
    "name": "ipython",
    "version": 3
   },
   "file_extension": ".py",
   "mimetype": "text/x-python",
   "name": "python",
   "nbconvert_exporter": "python",
   "pygments_lexer": "ipython3",
   "version": "3.9.13"
  }
 },
 "nbformat": 4,
 "nbformat_minor": 5
}
