{
 "cells": [
  {
   "cell_type": "markdown",
   "id": "4ed46c18",
   "metadata": {},
   "source": [
    "Q. Write a Python program to find the length of the my_str using loop:-\n",
    "Input:- 'Write a Python program to find the length of the my_str'\n",
    "Output:- 55"
   ]
  },
  {
   "cell_type": "code",
   "execution_count": 38,
   "id": "4a3fcd3a",
   "metadata": {},
   "outputs": [
    {
     "name": "stdout",
     "output_type": "stream",
     "text": [
      "55\n"
     ]
    }
   ],
   "source": [
    "str1 = 'Write a Python program to find the length of the my_str'\n",
    "count=0\n",
    "for i in str1:\n",
    "    count+=1\n",
    "print(count)\n",
    "\n",
    "    "
   ]
  },
  {
   "cell_type": "markdown",
   "id": "183733cf",
   "metadata": {},
   "source": [
    "Q. Write a Python program to find the total number of times letter 'p'\n",
    "is appeared in the below string using loop:-\n",
    "Input:- 'peter piper picked a peck of pickled peppers.\\n'\n",
    "Output:- 9"
   ]
  },
  {
   "cell_type": "code",
   "execution_count": 39,
   "id": "71b09943",
   "metadata": {},
   "outputs": [
    {
     "name": "stdout",
     "output_type": "stream",
     "text": [
      "9\n"
     ]
    }
   ],
   "source": [
    "str2 = 'peter piper picked a peck of pickled peppers.\\n'\n",
    "count = 0\n",
    "for i in str2:\n",
    "    if i == 'p':\n",
    "        count+=1\n",
    "print(count)"
   ]
  },
  {
   "cell_type": "markdown",
   "id": "e24b7bee",
   "metadata": {},
   "source": [
    "Write a Python Program, to print all the indexes of all occurences of\n",
    "letter 'p' appeared in the string using loop:-\n",
    "\n",
    "Input:- 'peter piper picked a peck of pickled peppers.'\n",
    "\n",
    "Output:-\n",
    "\n",
    "    0\n",
    "    6\n",
    "    8\n",
    "    12\n",
    "    21\n",
    "    29\n",
    "    37\n",
    "    39\n",
    "    40"
   ]
  },
  {
   "cell_type": "code",
   "execution_count": 44,
   "id": "ea7c7429",
   "metadata": {},
   "outputs": [
    {
     "name": "stdout",
     "output_type": "stream",
     "text": [
      "0\n",
      "6\n",
      "8\n",
      "12\n",
      "21\n",
      "29\n",
      "37\n",
      "39\n",
      "40\n"
     ]
    }
   ],
   "source": [
    "str3= 'peter piper picked a peck of pickled peppers.'\n",
    "i=0\n",
    "\n",
    "while i < len(str3):\n",
    "    if str3[i]=='p':\n",
    "        print(i)\n",
    "    i+=1\n",
    "    \n"
   ]
  },
  {
   "cell_type": "markdown",
   "id": "5a9a42bd",
   "metadata": {},
   "source": [
    "Write a python program to find below output using loop:-\n",
    "\n",
    "Input:- 'peter piper picked a peck of pickled peppers.'\n",
    "\n",
    "Output:- ['peter', 'piper', 'picked', 'a', 'peck', 'of', 'pickled',\n",
    "'peppers']"
   ]
  },
  {
   "cell_type": "code",
   "execution_count": 50,
   "id": "64a62be7",
   "metadata": {},
   "outputs": [
    {
     "name": "stdout",
     "output_type": "stream",
     "text": [
      "['peter', 'piper', 'picked', 'a', 'peck', 'of', 'pickled', 'peppers.']\n"
     ]
    }
   ],
   "source": [
    "str4= 'peter piper picked a peck of pickled peppers.'\n",
    "lst = []\n",
    "word = ''\n",
    "for char in str4:\n",
    "    if char != ' ':\n",
    "        word += char #keepon adding the charachter while the char is != ' '\n",
    "    else:\n",
    "        lst.append(word) # when char in str4 becomes == ' ' append the word to the enmpy list Lst[] and make word (str empty)\n",
    "        word = ''\n",
    "        \n",
    "# append last word\n",
    "lst.append(word)\n",
    "print(lst)\n"
   ]
  },
  {
   "cell_type": "markdown",
   "id": "caae2e30",
   "metadata": {},
   "source": [
    "Q. Write a python program to find below output using loop:-\n",
    "    \n",
    "Input:- 'peter piper picked a peck of pickled peppers.'\n",
    "Output:- 'peppers pickled of peck a picked piper peter'"
   ]
  },
  {
   "cell_type": "code",
   "execution_count": 107,
   "id": "efcaa92a",
   "metadata": {},
   "outputs": [
    {
     "name": "stdout",
     "output_type": "stream",
     "text": [
      "peppers. pickled of peck a picked piper peter\n"
     ]
    }
   ],
   "source": [
    "str4= 'peter piper picked a peck of pickled peppers.'\n",
    "lst = []\n",
    "word = ''\n",
    "for char in str4:\n",
    "    if char != ' ':\n",
    "        word += char #keepon adding the charachter while the char is != ' '\n",
    "    else:\n",
    "        lst.append(word) # when char in str4 becomes == ' ' append the word to the enmpy list Lst[] and make word (str empty)\n",
    "        word = ''\n",
    "        \n",
    "# append last word\n",
    "lst.append(word)\n",
    "\n",
    "lst.reverse()\n",
    "\n",
    "print(\" \".join(lst))"
   ]
  },
  {
   "cell_type": "markdown",
   "id": "1b2c656a",
   "metadata": {},
   "source": [
    "Q. Write a python program to find below output using loop:-\n",
    "\n",
    "Input:- 'peter piper picked a peck of pickled peppers.'\n",
    "\n",
    "Output:- '.sreppep delkcip fo kcep a dekcip repip retep'"
   ]
  },
  {
   "cell_type": "code",
   "execution_count": 131,
   "id": "fd84fa09",
   "metadata": {},
   "outputs": [
    {
     "data": {
      "text/plain": [
       "'.sreppep delkcip fo kcep a dekcip repip rete'"
      ]
     },
     "execution_count": 131,
     "metadata": {},
     "output_type": "execute_result"
    }
   ],
   "source": [
    "Input1='peter piper picked a peck of pickled peppers.'\n",
    "rev=''\n",
    "rev2=[]\n",
    "for i in Input1:\n",
    "    rev+=i\n",
    "    rev2.append(rev)\n",
    "    rev=\"\"\n",
    "\n",
    "final= rev2[-1:0:-1]\n",
    "\"\".join(final)"
   ]
  },
  {
   "cell_type": "markdown",
   "id": "11d3cb5d",
   "metadata": {},
   "source": [
    "Q. Write a python program to find below output using loop:-\n",
    "    \n",
    "Input:- 'peter piper picked a peck of pickled peppers.'\n",
    "    \n",
    "Output:- 'retep repip dekcip a kcep fo delkcip sreppep'"
   ]
  },
  {
   "cell_type": "code",
   "execution_count": 148,
   "id": "7b0fd631",
   "metadata": {},
   "outputs": [
    {
     "name": "stdout",
     "output_type": "stream",
     "text": [
      "retep repip dekcip a kcep fo delkcip .sreppep\n"
     ]
    }
   ],
   "source": [
    "Input2='peter piper picked a peck of pickled peppers.'\n",
    "stra=''\n",
    "\n",
    "list2=[]\n",
    "for char in Input2:\n",
    "    if char!=\" \":\n",
    "        stra+=char\n",
    "    else:\n",
    "        list2.append(stra[-1::-1])\n",
    "        stra=''\n",
    "list2.append(stra[-1::-1])\n",
    "    \n",
    "\n",
    "stra2= ' '.join(list2)\n",
    "print(stra2)"
   ]
  },
  {
   "cell_type": "markdown",
   "id": "3e54ca6c",
   "metadata": {},
   "source": [
    "Q. Write a python program to find below output using loop:-\n",
    "    \n",
    "Input:- 'peter piper picked a peck of pickled peppers.'\n",
    "    \n",
    "Output:- 'Peter Piper Picked A Peck Of Pickled Peppers'"
   ]
  },
  {
   "cell_type": "code",
   "execution_count": 176,
   "id": "54231812",
   "metadata": {},
   "outputs": [
    {
     "name": "stdout",
     "output_type": "stream",
     "text": [
      "Peter Piper Picked A Peck Of Pickled Peppers.\n"
     ]
    }
   ],
   "source": [
    "Input3='peter piper picked a peck of pickled peppers.'\n",
    "stra1=''\n",
    "list3=[]\n",
    "\n",
    "for char in Input3:\n",
    "    if char!=\" \":\n",
    "        stra1+=char\n",
    "    else:\n",
    "        list3.append(stra1.title())\n",
    "        stra1=''\n",
    "list3.append(stra1.title())\n",
    "\n",
    "stratitle= \" \".join(list3)\n",
    "print(stratitle)\n"
   ]
  },
  {
   "cell_type": "markdown",
   "id": "d66a4037",
   "metadata": {},
   "source": [
    "Write a python program to find below output using loop:-\n",
    "    \n",
    "Input:- 'Peter Piper Picked A Peck Of Pickled Peppers.'\n",
    "    \n",
    "Output:- 'Peter piper picked a peck of pickled peppers'"
   ]
  },
  {
   "cell_type": "code",
   "execution_count": 183,
   "id": "2f645482",
   "metadata": {},
   "outputs": [
    {
     "name": "stdout",
     "output_type": "stream",
     "text": [
      "peter piper picked a peck of pickled peppers.\n"
     ]
    }
   ],
   "source": [
    "fullcap= 'Peter Piper Picked A Peck Of Pickled Peppers.'\n",
    "emplis=[]\n",
    "temp=''\n",
    "for word in fullcap:\n",
    "    if word!=\" \":\n",
    "        temp+=word\n",
    "    else:\n",
    "        emplis.append(temp.lower())\n",
    "        temp=''\n",
    "\n",
    "emplis.append(temp.lower())\n",
    "\n",
    "\n",
    "lowerstr= \" \".join(emplis)\n",
    "print(lowerstr)\n",
    "\n",
    "        "
   ]
  },
  {
   "cell_type": "markdown",
   "id": "cf79cc40",
   "metadata": {},
   "source": [
    "# Write a python program to implement index method using loop. If\n",
    "sub_str is found in my_str then it will print the index\n",
    "of first occurrence of first character of matching string in my_str:-\n",
    "    \n",
    "Input:- my_str = 'Peter Piper Picked A Peck Of Pickled Peppers.',\n",
    "    \n",
    "sub_str = 'Pickl'\n",
    "\n",
    "Output:- 29"
   ]
  },
  {
   "cell_type": "code",
   "execution_count": 20,
   "id": "209ea704",
   "metadata": {},
   "outputs": [
    {
     "name": "stdout",
     "output_type": "stream",
     "text": [
      "29\n"
     ]
    }
   ],
   "source": [
    "str1 = \"Peter Piper Picked A Peck Of Pickled Peppers.\"\n",
    "sub_str = \"Pickl\"\n",
    "\n",
    "for i in range(0,len(str1)):\n",
    "    if str1[i:i+len(sub_str)] == substr:\n",
    "        print(i)\n",
    "        \n",
    "    "
   ]
  },
  {
   "cell_type": "markdown",
   "id": "0d881d89",
   "metadata": {},
   "source": [
    "#Q. Write a python program to implement replace method using loop. If\n",
    "sub_str is found in my_str then it will replace the first\n",
    "occurrence of sub_str with new_str else it will will print sub_str not\n",
    "found:-\n",
    "    \n",
    "Input:- my_str = 'Peter Piper Picked A Peck Of Pickled Peppers.',\n",
    "    \n",
    "sub_str = 'Peck', new_str = 'Pack'\n",
    "\n",
    "Output:- 'Peter Piper Picked A Pack Of Pickled Peppers.'"
   ]
  },
  {
   "cell_type": "code",
   "execution_count": 8,
   "id": "5f9181a3",
   "metadata": {},
   "outputs": [
    {
     "name": "stdout",
     "output_type": "stream",
     "text": [
      "Peter Piper Picked A Pack Of Pickled Peppers.\n"
     ]
    }
   ],
   "source": [
    "str1 = \"Peter Piper Picked A Peck Of Pickled Peppers.\"\n",
    "sub_str = \"Peck\"\n",
    "rep_str = \"Pack\"\n",
    "temp=\"\"\n",
    "for i in range(0,len(str1)):\n",
    "    if str1[i:i+len(sub_str)] == sub_str:\n",
    "        temp=str1[:i]+rep_str+str1[i+len(rep_str):]\n",
    "print(temp)"
   ]
  },
  {
   "cell_type": "markdown",
   "id": "a27d6022",
   "metadata": {},
   "source": [
    "# Q. Write a python program to find below output (implements rjust and\n",
    "ljust) using loop:-\n",
    "    \n",
    "Input:- 'Peter Piper Picked A Peck Of Pickled Peppers.', sub_str ='Peck',\n",
    "    \n",
    "Output:- '*********************Peck********************'"
   ]
  },
  {
   "cell_type": "code",
   "execution_count": 19,
   "id": "9dce1277",
   "metadata": {},
   "outputs": [
    {
     "name": "stdout",
     "output_type": "stream",
     "text": [
      "*********************Peck*****************\n"
     ]
    }
   ],
   "source": [
    "str6 = \"Peter Piper Picked A Peck Of Pickled Peppers.\"\n",
    "sub_str = \"Peck\"\n",
    "temp=\"\"\n",
    "for i in range(0,len(str6)):\n",
    "    if str6[i:i+len(sub_str)] == sub_str:\n",
    "        temp='*'*i+sub_str+'*'*(i-len(sub_str))\n",
    "        \n",
    "print(temp)"
   ]
  },
  {
   "cell_type": "markdown",
   "id": "d7be89c5",
   "metadata": {},
   "source": [
    "# Q. Write a python program to find below output using loop:-\n",
    "    \n",
    "Input:- 'This is Python class', sep = ' is',\n",
    "    \n",
    "Output:- ['This', 'is', 'Python class']"
   ]
  },
  {
   "cell_type": "code",
   "execution_count": 17,
   "id": "074a9ca0",
   "metadata": {},
   "outputs": [
    {
     "name": "stdout",
     "output_type": "stream",
     "text": [
      "\n",
      "['This', ' is', ' Python class']\n"
     ]
    }
   ],
   "source": [
    "str5=\"This is Python class\"\n",
    "sep=' is'\n",
    "\n",
    "str1 = \"This is Python class\"\n",
    "sep = ' is'\n",
    "ls=[]\n",
    "temp=\"\"\n",
    "for i in range(0,len(str5)):\n",
    "    if str1[i:i+len(sep)] == sep:\n",
    "        ls.append(str1[:i])\n",
    "        ls.append(sep)\n",
    "        ls.append(str1[i+len(sep):])\n",
    "        print()\n",
    "print(ls)"
   ]
  },
  {
   "cell_type": "code",
   "execution_count": null,
   "id": "5e6c558d",
   "metadata": {},
   "outputs": [],
   "source": []
  }
 ],
 "metadata": {
  "kernelspec": {
   "display_name": "Python 3 (ipykernel)",
   "language": "python",
   "name": "python3"
  },
  "language_info": {
   "codemirror_mode": {
    "name": "ipython",
    "version": 3
   },
   "file_extension": ".py",
   "mimetype": "text/x-python",
   "name": "python",
   "nbconvert_exporter": "python",
   "pygments_lexer": "ipython3",
   "version": "3.9.13"
  }
 },
 "nbformat": 4,
 "nbformat_minor": 5
}
