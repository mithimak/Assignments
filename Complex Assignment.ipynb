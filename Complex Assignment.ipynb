{
 "cells": [
  {
   "cell_type": "markdown",
   "id": "1b97ce5a",
   "metadata": {},
   "source": [
    "# COMPLEX ASSIGNMENT"
   ]
  },
  {
   "cell_type": "markdown",
   "id": "934287fb",
   "metadata": {},
   "source": [
    "1. Declare a complex number and store it in a variable.\n",
    "        Check the type and print the id of the same."
   ]
  },
  {
   "cell_type": "code",
   "execution_count": 1,
   "id": "e6dc6a1e",
   "metadata": {},
   "outputs": [
    {
     "name": "stdout",
     "output_type": "stream",
     "text": [
      "<class 'complex'>\n",
      "1886319418384\n"
     ]
    }
   ],
   "source": [
    "comp = 3+9j\n",
    "print(type(comp))\n",
    "print(id(comp))"
   ]
  },
  {
   "cell_type": "markdown",
   "id": "d5df5e14",
   "metadata": {},
   "source": [
    "2. Arithmetic Operations on complex number\n",
    "    Take two different complex numbers.\n",
    "    Store them in two different variables. Do below operations on them:-\n",
    "\n",
    "        Find sum of both values\n",
    "        Find difference between them\n",
    "        Find the product of both.\n",
    "        Find value after dividing first value with second value\n",
    "        Find the result of first value to the power of second value."
   ]
  },
  {
   "cell_type": "code",
   "execution_count": 3,
   "id": "12890e7d",
   "metadata": {},
   "outputs": [
    {
     "name": "stdout",
     "output_type": "stream",
     "text": [
      "True\n",
      "(4+6j)\n",
      "(-2-2j)\n",
      "(-5+10j)\n",
      "(0.44+0.08j)\n",
      "(0.12900959407446697+0.03392409290517014j)\n"
     ]
    }
   ],
   "source": [
    "#declaring Variables for the complex values, 1+2j & 3+4j\n",
    "\n",
    "comp1 = 1+2j\n",
    "comp2 = 3+4j\n",
    "\n",
    "print(type(comp1) == type(comp2))\n",
    "\n",
    "#Sum\n",
    "print(comp1+comp2)\n",
    "\n",
    "#difference\n",
    "print(comp1-comp2)\n",
    "\n",
    "#product\n",
    "print(comp1*comp2)\n",
    "\n",
    "#Division\n",
    "print(comp1/comp2)\n",
    "\n",
    "#Power\n",
    "print(comp1**comp2)"
   ]
  },
  {
   "cell_type": "markdown",
   "id": "e88192f2",
   "metadata": {},
   "source": [
    "3. Comparison Operation not applicable between instance of complex values.\n",
    "    Object reusability concept is not applicable on complex number\n",
    "    \n",
    "        Equality Operator\n",
    "        Take two different complex numbers.\n",
    "        Store them in two different variables.\n",
    "        \n",
    "            Equate them using equality operators (==, !=)\n",
    "            Observe the output(return type should be boolean)"
   ]
  },
  {
   "cell_type": "code",
   "execution_count": 5,
   "id": "772b2b4c",
   "metadata": {},
   "outputs": [
    {
     "name": "stdout",
     "output_type": "stream",
     "text": [
      "False\n",
      "True\n"
     ]
    }
   ],
   "source": [
    "#declaring Variables for the complex numbers\n",
    "\n",
    "comp3 = 2+3j\n",
    "comp4 = 1+1j\n",
    "\n",
    "# is equal to\n",
    "\n",
    "print(comp3 == comp4)\n",
    "\n",
    "# is not equal too\n",
    "\n",
    "print(comp3 != comp4)"
   ]
  },
  {
   "cell_type": "markdown",
   "id": "4588ca5c",
   "metadata": {},
   "source": [
    "4. Logical operators\n",
    "        Observe the output of below code\n",
    "        Cross check the output manually"
   ]
  },
  {
   "cell_type": "code",
   "execution_count": 7,
   "id": "ffca1cad",
   "metadata": {},
   "outputs": [
    {
     "name": "stdout",
     "output_type": "stream",
     "text": [
      "(20+30j)\n",
      "0j\n",
      "0j\n",
      "0j\n",
      "(10+20j)\n",
      "(20+30j)\n",
      "(20+30j)\n",
      "0j\n",
      "False\n",
      "True\n"
     ]
    }
   ],
   "source": [
    "print(10+20j and 20+30j) #20+30j\n",
    "\n",
    "print(0+0j and 20+30j) #0+0j\n",
    "\n",
    "print(20+30j and 0+0j) #0+0j\n",
    "\n",
    "print(0+0j and 0+0j) #0+0j\n",
    "\n",
    "print(10+20j or 20+30j) #10+20j\n",
    "\n",
    "print(0+0j or 20+30j) #20+30j\n",
    "\n",
    "print(20+30j or 0+0j) #20+30j\n",
    "\n",
    "print(0+0j or 0+0j) #0+0j\n",
    "\n",
    "print(not 10+20j) #False\n",
    "\n",
    "print(not 0+0j) #True\n"
   ]
  },
  {
   "cell_type": "markdown",
   "id": "7a949068",
   "metadata": {},
   "source": [
    " 5. What is the output of the expression inside the print statement.\n",
    "        Cross check before running the program."
   ]
  },
  {
   "cell_type": "code",
   "execution_count": 2,
   "id": "c3cfdb5d",
   "metadata": {},
   "outputs": [
    {
     "name": "stdout",
     "output_type": "stream",
     "text": [
      "False\n",
      "True\n",
      "2503440403472\n",
      "2503440403600\n"
     ]
    }
   ],
   "source": [
    "a = 10+20j\n",
    "b = 10+20j\n",
    "print(a is b) \n",
    "print(a is not b) \n",
    "print(id(a))\n",
    "print(id(b))"
   ]
  },
  {
   "cell_type": "markdown",
   "id": "60a17ae2",
   "metadata": {},
   "source": [
    "6. Membership operation\n",
    "    in, not in are two membership operators and it returns boolean value"
   ]
  },
  {
   "cell_type": "code",
   "execution_count": 10,
   "id": "890b9a4b",
   "metadata": {},
   "outputs": [
    {
     "name": "stdout",
     "output_type": "stream",
     "text": [
      "True\n",
      "True\n",
      "True\n",
      "True\n",
      "True\n",
      "True\n"
     ]
    }
   ],
   "source": [
    "print('2.7' in 'Python2.7.8') #True\n",
    "print(10+20j in [10,10.20,10+20j,'Python']) #True\n",
    "print(10+20j in (10,10.20,10+20j,'Python')) #True\n",
    "print(30+40j in {1,20.30,30+40j}) #True\n",
    "print(30+40j in {1:100, 2.3:200, 30+40j:300}) #True\n",
    "print(10 in range(20))"
   ]
  },
  {
   "cell_type": "code",
   "execution_count": null,
   "id": "4c4f558f",
   "metadata": {},
   "outputs": [],
   "source": []
  }
 ],
 "metadata": {
  "kernelspec": {
   "display_name": "Python 3 (ipykernel)",
   "language": "python",
   "name": "python3"
  },
  "language_info": {
   "codemirror_mode": {
    "name": "ipython",
    "version": 3
   },
   "file_extension": ".py",
   "mimetype": "text/x-python",
   "name": "python",
   "nbconvert_exporter": "python",
   "pygments_lexer": "ipython3",
   "version": "3.9.13"
  }
 },
 "nbformat": 4,
 "nbformat_minor": 5
}
