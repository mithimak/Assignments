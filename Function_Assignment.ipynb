{
 "cells": [
  {
   "cell_type": "code",
   "execution_count": 85,
   "metadata": {
    "id": "1YVTYu-CuCOO"
   },
   "outputs": [
    {
     "name": "stdout",
     "output_type": "stream",
     "text": [
      "Give int-1 'x':- 4\n",
      "Give int-1 'y':- 5\n"
     ]
    },
    {
     "data": {
      "text/plain": [
       "9"
      ]
     },
     "execution_count": 85,
     "metadata": {},
     "output_type": "execute_result"
    }
   ],
   "source": [
    "# Define a function calls addNumber(x, y) that takes in two number and returns the sum of the two numbers.\n",
    "\n",
    "def addNumber(x,y):\n",
    "    x=int(input(\"Give int-1 'x':- \"))\n",
    "    y=int(input(\"Give int-1 'y':- \"))\n",
    "    return x+y\n",
    "addNumber(x,y)\n",
    "\n"
   ]
  },
  {
   "cell_type": "code",
   "execution_count": 74,
   "metadata": {
    "id": "1-gIq-Rju2i2"
   },
   "outputs": [
    {
     "name": "stdout",
     "output_type": "stream",
     "text": [
      "Give int-1 'x':- 4\n",
      "Give int-1 'y':- 3\n"
     ]
    },
    {
     "data": {
      "text/plain": [
       "1"
      ]
     },
     "execution_count": 74,
     "metadata": {},
     "output_type": "execute_result"
    }
   ],
   "source": [
    "# Define a function calls subtractNumber(x, y) that takes in two numbers and returns the difference of the two numbers.\n",
    "\n",
    "def subtractNumber(x,y):\n",
    "    x=int(input(\"Give int-1 'x':- \"))\n",
    "    y=int(input(\"Give int-1 'y':- \"))\n",
    "    return x-y\n",
    "\n",
    "subtractNumber(x,y)\n"
   ]
  },
  {
   "cell_type": "code",
   "execution_count": 72,
   "metadata": {
    "id": "kiAE0iLbviG9"
   },
   "outputs": [
    {
     "name": "stdout",
     "output_type": "stream",
     "text": [
      "Give a number:- 5\n",
      "Give a number:- 6\n"
     ]
    },
    {
     "data": {
      "text/plain": [
       "'6 is bigger than 5'"
      ]
     },
     "execution_count": 72,
     "metadata": {},
     "output_type": "execute_result"
    }
   ],
   "source": [
    "# Write a function getBiggerNumber(x, y) that takes in two numbers as arguments and returns the bigger number.\n",
    "\n",
    "\n",
    "def big_num(x,y):\n",
    "    \n",
    "    x=int(input(\"Give a number:- \"))\n",
    "    y=int(input(\"Give a number:- \"))\n",
    "    if x>y:\n",
    "        return(f'{x} is bigger than {y}')\n",
    "    else:\n",
    "        return(f'{y} is bigger than {x}')      \n",
    "\n",
    "big_num(x,y)\n",
    "                \n",
    "\n",
    "              \n"
   ]
  },
  {
   "cell_type": "code",
   "execution_count": null,
   "metadata": {},
   "outputs": [],
   "source": []
  },
  {
   "cell_type": "code",
   "execution_count": 18,
   "metadata": {
    "id": "10B5oVcZh16d"
   },
   "outputs": [
    {
     "name": "stdout",
     "output_type": "stream",
     "text": [
      "3.0\n",
      "243.0\n",
      "28.274333882308138\n"
     ]
    }
   ],
   "source": [
    "# Python provides many built-in modules with many useful functions. \n",
    "# One such module is the math module. The math module provides many useful functions such as sqrt(x), pow(x, y), ceil(x), floor(x) etc. \n",
    "# You will need to do a \"import math\" before you are allowed to use the functions within the math module.\n",
    "import math\n",
    "\n",
    "# Calculate the square root of 16 and stores it in the variable a\n",
    "a= math.sqrt(9)\n",
    "print(a)\n",
    "\n",
    "# Calculate 3 to the power of 5 and stores it in the variable b\n",
    "b=math.pow(3,5)\n",
    "print(b)\n",
    "\n",
    "# Calculate area of circle with radius = 3.0 by making use of the math.pi constant and store it in the variable c\n",
    "c=math.pi*math.pow(3.0,2)\n",
    "print(c)"
   ]
  },
  {
   "cell_type": "code",
   "execution_count": 10,
   "metadata": {
    "id": "Yado0B99h2E_"
   },
   "outputs": [
    {
     "name": "stdout",
     "output_type": "stream",
     "text": [
      "82.4\n",
      "32.0\n"
     ]
    }
   ],
   "source": [
    "# Write a function to convert temperature from Celsius to Fahrenheit scale.\n",
    "# oC to oF Conversion: Multipy by 9, then divide by 5, then add 32.\n",
    "\n",
    "# Note: Return a string of 2 decimal places.\n",
    "# In - Cel2Fah(28.0)\n",
    "# Out - '82.40'\n",
    "# In - Cel2Fah(0.00)\n",
    "# Out - '32.00'\n",
    "\n",
    "def celtofar(celsius):\n",
    "    celtofar= ((celsius*9)/5)+32\n",
    "    return celtofar\n",
    "\n",
    "print(celtofar(28.0))\n",
    "print(celtofar(0.00))"
   ]
  },
  {
   "cell_type": "code",
   "execution_count": 4,
   "metadata": {
    "id": "n7lsFol9h2ID"
   },
   "outputs": [
    {
     "name": "stdout",
     "output_type": "stream",
     "text": [
      "21.79930795847751\n",
      "27.5\n"
     ]
    }
   ],
   "source": [
    "# Write a function to compute the BMI of a person.\n",
    "#     BMI = weight(kg)  /  ( height(m)*height(m) )\n",
    "\n",
    "# Note: Return a string of 1 decimal place.\n",
    "# In - BMI(63, 1.7)\n",
    "# Out - '21.8'\n",
    "# In - BMI(110, 2)\n",
    "# Out - '27.5'\n",
    "\n",
    "def BMI(Weight,Height):\n",
    "    BMI= Weight/(Height*Height)\n",
    "    return BMI\n",
    "\n",
    "print(BMI(63,1.7))\n",
    "print(BMI(110,2))"
   ]
  },
  {
   "cell_type": "code",
   "execution_count": 33,
   "metadata": {
    "id": "f2tV1AU8h2LN"
   },
   "outputs": [
    {
     "name": "stdout",
     "output_type": "stream",
     "text": [
      "51.11111111111111\n",
      "100.0\n",
      "525.0\n"
     ]
    }
   ],
   "source": [
    "# Write a function percent(value, total) that takes in two numbers as arguments, and returns the percentage value as an integer.\n",
    "# In - percent(46, 90)\n",
    "# Out - 51\n",
    "# In - percent(51, 51)\n",
    "# Out - 100\n",
    "# In - percent(63, 12)\n",
    "# Out - 525\n",
    "\n",
    "def percent(x,y):\n",
    "    return ((x/y)*100)\n",
    "\n",
    "print(percent(46, 90))\n",
    "print(percent(51,51))\n",
    "print(percent(63, 12))"
   ]
  },
  {
   "cell_type": "code",
   "execution_count": 22,
   "metadata": {
    "id": "QyoWR3dQh2OZ"
   },
   "outputs": [
    {
     "name": "stdout",
     "output_type": "stream",
     "text": [
      "5.0\n",
      "13.0\n"
     ]
    }
   ],
   "source": [
    "# Write a function to compute the hypotenuse given sides a and b of the triangle.\n",
    "# Hint: You can use math.sqrt(x) to compute the square root of x.\n",
    "# In - hypotenuse(3, 4)\n",
    "# Out - 5\n",
    "# In - hypotenuse(5, 12)\n",
    "# Out - 13\n",
    "\n",
    "def hypotenuse(Side1,Side2):\n",
    "    hypotenuse=math.sqrt(math.pow(Side1,2)+math.pow(Side2,2))\n",
    "    return hypotenuse\n",
    "\n",
    "print(hypotenuse(3, 4))\n",
    "print(hypotenuse(5,12))"
   ]
  },
  {
   "cell_type": "code",
   "execution_count": 4,
   "metadata": {
    "id": "XthPUigkh2Ro"
   },
   "outputs": [
    {
     "name": "stdout",
     "output_type": "stream",
     "text": [
      "9\n",
      "10\n"
     ]
    }
   ],
   "source": [
    "# Write a function getSumOfLastDigits() that takes in a list of positive numbers and returns the sum of all the last digits in the list.\n",
    "# getSumOfLastDigits([2, 3, 4])\n",
    "# 9\n",
    "# getSumOfLastDigits([1, 23, 456])\n",
    "# 10\n",
    "\n",
    "def sumoflastdigit(l:\"list of numbers\"):\n",
    "    str1=\"\"\n",
    "    finallist=[]\n",
    "    for i in l:\n",
    "        str1=str(i)\n",
    "        finallist.append(int(str1[-1]))\n",
    "        str1=\"\"\n",
    "    return sum(finallist)\n",
    "\n",
    "\n",
    "l=[2, 3, 4]\n",
    "print(sumoflastdigit(l))\n",
    "l=[1,23,456]\n",
    "print(sumoflastdigit(l))\n"
   ]
  },
  {
   "cell_type": "code",
   "execution_count": 40,
   "metadata": {
    "id": "T-uIqm9Mh2Un"
   },
   "outputs": [
    {
     "data": {
      "text/plain": [
       "'My name is Rock, i am 50 years old'"
      ]
     },
     "execution_count": 40,
     "metadata": {},
     "output_type": "execute_result"
    }
   ],
   "source": [
    "# Write a function that uses a default value.\n",
    "# In - introduce('Lim', 20)\n",
    "# Out - 'My name is Lim. I am 20 years old.'\n",
    "# In - introduce('Ahmad')\n",
    "# Out - 'My name is Ahmad. My age is secret.'\n",
    "\n",
    "def namintro(a,b):\n",
    "\n",
    "    return f\"My name is {a}, i am {b} years old\"\n",
    "\n",
    "a=\"Rock\"\n",
    "b=50\n",
    "namintro(a,b)\n",
    "\n"
   ]
  },
  {
   "cell_type": "code",
   "execution_count": 28,
   "metadata": {
    "id": "h0pXo5vH6wA-"
   },
   "outputs": [
    {
     "name": "stdout",
     "output_type": "stream",
     "text": [
      "Not an equilateral triangle\n",
      "True\n"
     ]
    }
   ],
   "source": [
    "# Write a function isEquilateral(x, y, z) that accepts the 3 sides of a triangle as arguments. \n",
    "# The program should return True if it is an equilateral triangle.\n",
    "\n",
    "# In - isEquilateral(2, 4, 3)\n",
    "# False - False\n",
    "# In - isEquilateral(3, 3, 3)\n",
    "# Out - True\n",
    "# In - isEquilateral(-3, -3, -3)\n",
    "# Out - False\n",
    "\n",
    "\n",
    "def isEquilateral(side1,side2,side3):\n",
    "    if side1==side2==side3:\n",
    "        return True\n",
    "    else:\n",
    "        return \"Not an equilateral triangle\"\n",
    "    \n",
    "print(isEquilateral(3,4,5))\n",
    "print(isEquilateral(3,3,3))"
   ]
  },
  {
   "cell_type": "code",
   "execution_count": 13,
   "metadata": {
    "id": "3NvcKCkn6wFy"
   },
   "outputs": [
    {
     "name": "stdout",
     "output_type": "stream",
     "text": [
      "-8\n",
      "1\n",
      "0\n"
     ]
    }
   ],
   "source": [
    "# For a quadratic equation in the form of ax2+bx+c, the discriminant, D is b2-4ac. Write a function to compute the discriminant, D.\n",
    "# In - quadratic(1, 2, 3)\n",
    "# Out - 'The discriminant is -8.'\n",
    "# In - quadratic(1, 3, 2)\n",
    "# Out - 'The discriminant is 1.'\n",
    "# In - quadratic(1, 4, 4)\n",
    "# Out - 'The discriminant is 0.'\n",
    "\n",
    "\n",
    "def d(a,b,c):\n",
    "    d= b**2-(4*a*c)\n",
    "    return d\n",
    "\n",
    "print(d(1,2,3))\n",
    "print(d(1,3,2))\n",
    "print(d(1,4,4))\n",
    "        \n",
    "        \n"
   ]
  },
  {
   "cell_type": "code",
   "execution_count": 37,
   "metadata": {
    "colab": {
     "base_uri": "https://localhost:8080/",
     "height": 34
    },
    "id": "ihmuttBS6wJQ",
    "outputId": "0ef031e9-dec6-4ffe-b1ea-38d836dbcdcf"
   },
   "outputs": [
    {
     "name": "stdout",
     "output_type": "stream",
     "text": [
      "5\n",
      "0\n",
      "10\n"
     ]
    }
   ],
   "source": [
    "# Define a function calls addFirstAndLast(x) that takes in a list of numbers and returns the sum of the first and last numbers.\n",
    "# In - addFirstAndLast([])\n",
    "# Out - 0\n",
    "# In - addFirstAndLast([2, 7, 3])\n",
    "# Out - 5\n",
    "# In - addFirstAndLast([10])\n",
    "# Out - 10\n",
    "\n",
    "def addFirstAndLast(lst):\n",
    "    if lst==[]:\n",
    "        return 0\n",
    "    elif len(lst)==1:\n",
    "        return lst[0]\n",
    "    else:\n",
    "        addFirstAndLast=lst[0]+lst[-1]\n",
    "        return addFirstAndLast\n",
    "\n",
    "print(addFirstAndLast([2,7,3]))\n",
    "print(addFirstAndLast([]))\n",
    "print(addFirstAndLast([10]))"
   ]
  },
  {
   "cell_type": "code",
   "execution_count": 47,
   "metadata": {
    "colab": {
     "base_uri": "https://localhost:8080/",
     "height": 34
    },
    "id": "lEt9HNPI6wM0",
    "outputId": "b07e15c3-a864-454c-aef5-1f1f0e07b39a"
   },
   "outputs": [
    {
     "data": {
      "text/plain": [
       "False"
      ]
     },
     "execution_count": 47,
     "metadata": {},
     "output_type": "execute_result"
    }
   ],
   "source": [
    "# Complete the 'lambda' expression so that it returns True if the argument is an even number, and False otherwise.\n",
    "\n",
    "iseven1=(lambda x: True if x%2==0 else False)\n",
    "\n",
    "iseven1(31)"
   ]
  },
  {
   "cell_type": "code",
   "execution_count": 1,
   "metadata": {
    "colab": {
     "base_uri": "https://localhost:8080/",
     "height": 35
    },
    "id": "JYWSZXPg6wQN",
    "outputId": "7b71e08d-573f-4d03-d5e3-e220df4c3b90"
   },
   "outputs": [
    {
     "name": "stdout",
     "output_type": "stream",
     "text": [
      "Help on function getScore in module __main__:\n",
      "\n",
      "getScore()\n",
      "    'A function that computes and returns the final score.\n",
      "\n"
     ]
    }
   ],
   "source": [
    "\n",
    "# Get the documentation of below function\n",
    "\n",
    "def getScore():\n",
    "  ''''A function that computes and returns the final score.'''\n",
    "  pass\n",
    "\n",
    "help(getScore)"
   ]
  },
  {
   "cell_type": "code",
   "execution_count": 5,
   "metadata": {
    "colab": {
     "base_uri": "https://localhost:8080/",
     "height": 34
    },
    "id": "zmi81hi76wTK",
    "outputId": "232b4456-63ad-4582-d2cd-d888952dc957"
   },
   "outputs": [
    {
     "name": "stdout",
     "output_type": "stream",
     "text": [
      "25\n",
      "100\n",
      "1\n"
     ]
    }
   ],
   "source": [
    "# In Python, it is possible to pass a function as a argument to another function. \n",
    "# Write a function useFunction(func, num) that takes in a function and a number as arguments. \n",
    "# The useFunction should produce the output shown in the examples given below.\n",
    "\n",
    "# def addOne(x):\n",
    "#   return x + 1\n",
    "# useFunction(addOne, 4)\n",
    "# 25\n",
    "# useFunction(addOne, 9)\n",
    "# 100\n",
    "# useFunction(addOne, 0)\n",
    "# 1\n",
    "\n",
    "def addOne(x):\n",
    "    return x + 1\n",
    "\n",
    "def useFunction(func, num):\n",
    "    out = func(num)\n",
    "    return out ** 2\n",
    "\n",
    "print(useFunction(addOne,4))\n",
    "print(useFunction(addOne,9))\n",
    "print(useFunction(addOne,0))\n",
    "\n"
   ]
  },
  {
   "cell_type": "code",
   "execution_count": 5,
   "metadata": {
    "id": "JJm1zFMX6wWK"
   },
   "outputs": [
    {
     "name": "stdout",
     "output_type": "stream",
     "text": [
      "2\n",
      "9\n"
     ]
    }
   ],
   "source": [
    "# Write a function find_max that accepts three numbers as arguments and returns the largest number among three. \n",
    "# Write another function main, in main() function accept three numbers from user and call find_max.\n",
    "\n",
    "\n",
    "def find_max(a,b,c):\n",
    "    return max([a,b,c])\n",
    "\n",
    "find_max(2,3,4)\n",
    "\n",
    "def main(a,b,c):\n",
    "    return find_max(a,b,c)\n",
    "\n",
    "print(main(1,2,0))\n",
    "print(main(1,9,0))\n"
   ]
  },
  {
   "cell_type": "code",
   "execution_count": 104,
   "metadata": {
    "colab": {
     "base_uri": "https://localhost:8080/",
     "height": 34
    },
    "id": "PBvBwg0O6waD",
    "outputId": "57768b69-c749-4d88-be06-7a9d41a98de2"
   },
   "outputs": [
    {
     "name": "stdout",
     "output_type": "stream",
     "text": [
      "False\n",
      "5\n"
     ]
    }
   ],
   "source": [
    "# Write a function, is_vowel that returns the value true if a given character is a vowel, \n",
    "# and otherwise returns false. \n",
    "# Write another function main, in main() function accept a string from user and count number \n",
    "# of vowels in that string.\n",
    "\n",
    "isvowel=lambda x: True if x in [\"a\",\"e\",\"i\",\"o\",\"u\"] else False\n",
    "print(isvowel(\"f\"))\n",
    "\n",
    "def ismain(string):\n",
    "    count=0\n",
    "    for i in string:\n",
    "        if isvowel(i)==True:\n",
    "            count=count+1\n",
    "    print(count)\n",
    "\n",
    "    \n",
    "ismain(\"Water Vapour\")"
   ]
  },
  {
   "cell_type": "code",
   "execution_count": 11,
   "metadata": {},
   "outputs": [
    {
     "name": "stdout",
     "output_type": "stream",
     "text": [
      "[1, 2, 3, 5, 7, 11, 13, 17, 19, 23, 29, 31, 37, 41, 43, 47, 53, 59, 61, 67, 71, 73, 79, 83, 89, 97, 101, 103, 107, 109, 113, 127, 131, 137, 139, 149, 151, 157, 163, 167, 173, 179, 181, 191, 193, 197, 199, 211, 223, 227, 229, 233, 239, 241, 251, 257, 263, 269, 271, 277, 281, 283, 293, 307, 311, 313, 317, 331, 337, 347, 349, 353, 359, 367, 373, 379, 383, 389, 397, 401, 409, 419, 421, 431, 433, 439, 443, 449, 457, 461, 463, 467, 479, 487, 491, 499]\n"
     ]
    }
   ],
   "source": [
    "# Write a function named is_prime, which takes an integer as an argument and returns true \n",
    "# if the argument is a prime number, or false otherwise. \n",
    "# Also, write the main function that displays prime numbers between 1 to 500.\n",
    "\n",
    "def isprime(num):\n",
    "    for n in range(2,int(num**0.5)+1):\n",
    "        if num%n==0:\n",
    "            return False\n",
    "    return True\n",
    "\n",
    "ismain=list(filter(lambda x: isprime(x),range(1,501)))\n",
    "print(ismain)"
   ]
  },
  {
   "cell_type": "code",
   "execution_count": 20,
   "metadata": {},
   "outputs": [
    {
     "data": {
      "text/plain": [
       "659"
      ]
     },
     "execution_count": 20,
     "metadata": {},
     "output_type": "execute_result"
    }
   ],
   "source": [
    "# Write a function in python to find the sum of the cube of elements in a list. \n",
    "# The list is received as an argument to the function, in turn, the function must return the sum. \n",
    "# Write the main function which invokes the above function.\n",
    "l=[1,2,3,4,5]\n",
    "\n",
    "def sumofcubeoflist(l):\n",
    "    cubeoflist=list(map(lambda x: x**3,l)) #L- here is the list object to get the cubes of the list\n",
    "    return sum(cubeoflist) #finding out the sum of the Cube of list generated\n",
    "\n",
    "\n",
    "sumofcubeoflist([1,2,3,4,6,7])\n",
    "\n",
    "      \n"
   ]
  },
  {
   "cell_type": "code",
   "execution_count": 4,
   "metadata": {},
   "outputs": [
    {
     "data": {
      "text/plain": [
       "600"
      ]
     },
     "execution_count": 4,
     "metadata": {},
     "output_type": "execute_result"
    }
   ],
   "source": [
    "# Write the definition of a function zero_ending(scores) to add all those values in the list of scores, \n",
    "# which are ending with zero and display the sum.\n",
    "# For example: If the scores contain [200, 456, 300, 100, 234, 678] The sum should be displayed as 600\n",
    "\n",
    "def zero_end(l):\n",
    "    zero_end=list(filter(lambda x:x%10==0,l))\n",
    "    return(sum(zero_end))\n",
    "\n",
    "zero_end([200, 456, 300, 100, 234, 678])\n"
   ]
  },
  {
   "cell_type": "code",
   "execution_count": 5,
   "metadata": {},
   "outputs": [
    {
     "name": "stdout",
     "output_type": "stream",
     "text": [
      "LONDON\n",
      "NEW YORK\n"
     ]
    }
   ],
   "source": [
    "# Write a definition of a method count_now(places) to find and display those place names, \n",
    "# in which there are more than 5 characters.\n",
    "\n",
    "# For example :\n",
    "# If the list places contains\n",
    "# [\"DELHI\",\"LONDON\",\"PARIS\",\"NEW YORK\",\"DUBAI\"]\n",
    "# The following should get displayed :\n",
    "# LONDON\n",
    "# NEW YORK\n",
    "\n",
    "Places=[\"DELHI\",\"LONDON\",\"PARIS\",\"NEW YORK\",\"DUBAI\"]\n",
    "\n",
    "def count_now(l):\n",
    "    for i in l:\n",
    "        if len(i)>5:\n",
    "            print(i)\n",
    "count_now([\"DELHI\",\"LONDON\",\"PARIS\",\"NEW YORK\",\"DUBAI\"])            "
   ]
  },
  {
   "cell_type": "code",
   "execution_count": 55,
   "metadata": {},
   "outputs": [
    {
     "name": "stdout",
     "output_type": "stream",
     "text": [
      "414141\n",
      "DROND #\n",
      "GIRIRAJ #\n",
      "131313\n"
     ]
    }
   ],
   "source": [
    "# Write a method in python to display the elements of list thrice if it is a number and display \n",
    "# the element terminated with ‘#’ if it is not a number.\n",
    "\n",
    "# For example, if the content of list is as follows :\n",
    "# ThisList=[‘41’,‘DROND’,‘GIRIRAJ’, ‘13’,‘ZARA’]\n",
    "# The output should be\n",
    "# 414141\n",
    "# DROND#\n",
    "# GIRIRAJ#\n",
    "# 131313\n",
    "# ZARA#\n",
    "\n",
    "ThisList= ['41','DROND','GIRIRAJ', '13','ZARA']\n",
    "\n",
    "def format1(a:list):\n",
    "    for i in range(0,len(a)-1):\n",
    "        if a[i].isdigit():\n",
    "            print(a[i]*3)\n",
    "        else:\n",
    "            print(a[i],\"#\")\n",
    "format1(ThisList)"
   ]
  },
  {
   "cell_type": "code",
   "execution_count": 12,
   "metadata": {},
   "outputs": [],
   "source": [
    "# For a given list of values in descending order, write a method in python to search \n",
    "# for a value with the help of Binary Search method. \n",
    "# The method should return position of the value and should return -1 if the value not present in the list.\n",
    "\n",
    "def bin_search(lst,num):\n",
    "    l=0\n",
    "    u=int(len(lst))-1\n",
    "    while l<=u:\n",
    "        mid=(l+u)//2\n",
    "        if lst[mid]==num:\n",
    "            return mid\n",
    "            break\n",
    "        else:\n",
    "            if l<=num:\n",
    "                l+1\n",
    "            else:\n",
    "                u-1           "
   ]
  },
  {
   "cell_type": "code",
   "execution_count": 9,
   "metadata": {},
   "outputs": [
    {
     "name": "stdout",
     "output_type": "stream",
     "text": [
      "[40, 50, 60, 10, 20, 30]\n",
      "[50, 60, 70, 40, 10, 20, 30]\n"
     ]
    }
   ],
   "source": [
    "# Write a function half_and_half that takes in a list and change the list \n",
    "# such that the elements of the second half are now in the first half.\n",
    "\n",
    "# For example, if the size of list is even and content of list is as follows :\n",
    "# my_liist = [10,20,30,40,50,60]\n",
    "# The output should be\n",
    "# [40,50,60,10,20,30]\n",
    "# if the size of list is odd and content of list is as follows :\n",
    "# my_liist = [10,20,30,40,50,60,70]\n",
    "# The output should be\n",
    "# [50,60,70,40,10,20,30]\n",
    "\n",
    "def half_and_half(my_liist):\n",
    "    l = len(my_liist)\n",
    "\n",
    "    if l % 2 == 0:\n",
    "        mid = int(l / 2)\n",
    "        first_half = my_liist[:mid]\n",
    "        second_half = my_liist[mid:]\n",
    "        out_list = second_half + first_half\n",
    "    else:\n",
    "        mid = l // 2\n",
    "        first_half = my_liist[:mid]\n",
    "        second_half = my_liist[mid+1:]\n",
    "        out_list = second_half + [my_liist[mid]] + first_half\n",
    "\n",
    "    return out_list\n",
    "\n",
    "print(half_and_half([10,20,30,40,50,60]))\n",
    "print(half_and_half([10,20,30,40,50,60,70]))"
   ]
  },
  {
   "cell_type": "code",
   "execution_count": 76,
   "metadata": {
    "ExecuteTime": {
     "end_time": "2021-05-29T10:39:43.694779Z",
     "start_time": "2021-05-29T10:39:43.691446Z"
    }
   },
   "outputs": [
    {
     "name": "stdout",
     "output_type": "stream",
     "text": [
      "Give a dict:-{\"a\":1,\"b\":2,\"c\":3,\"d\":5}\n"
     ]
    },
    {
     "data": {
      "text/plain": [
       "{1: 'a', 2: 'b', 3: 'c', 5: 'd'}"
      ]
     },
     "execution_count": 76,
     "metadata": {},
     "output_type": "execute_result"
    }
   ],
   "source": [
    "# Write a function that accepts a dictionary as an argument. If the dictionary contains replicate values, \n",
    "# return an empty dictionary, otherwise, return a new dictionary whose values are now the keys and whose \n",
    "# keys are the values.\n",
    "\n",
    "def inversedict(dict1:'Give a dictionary'):\n",
    "    dict1=eval(input(\"Give a dict:-\"))\n",
    "    values=list(dict1.values()) \n",
    "    keys=list(dict1.keys())\n",
    "    newdic={}\n",
    "    for i in values:\n",
    "        if values.count(i)==1:\n",
    "            inversedict=dict(map(lambda key,value:(key,value), values,keys))\n",
    "            return inversedict\n",
    "        else:\n",
    "            return newdic\n",
    "            break\n",
    "            \n",
    "dict1={\"a\":1,\"b\":2,\"c\":3,\"d\":5}            \n",
    "inversedict(dict1)"
   ]
  },
  {
   "cell_type": "code",
   "execution_count": null,
   "metadata": {},
   "outputs": [],
   "source": []
  }
 ],
 "metadata": {
  "colab": {
   "name": "Function_Assignment.ipynb",
   "provenance": []
  },
  "kernelspec": {
   "display_name": "Python 3 (ipykernel)",
   "language": "python",
   "name": "python3"
  },
  "language_info": {
   "codemirror_mode": {
    "name": "ipython",
    "version": 3
   },
   "file_extension": ".py",
   "mimetype": "text/x-python",
   "name": "python",
   "nbconvert_exporter": "python",
   "pygments_lexer": "ipython3",
   "version": "3.9.13"
  }
 },
 "nbformat": 4,
 "nbformat_minor": 1
}
